{
 "cells": [
  {
   "cell_type": "markdown",
   "id": "6e2afaf8",
   "metadata": {},
   "source": [
    "# Primeira Análise"
   ]
  },
  {
   "cell_type": "markdown",
   "id": "17008f12",
   "metadata": {},
   "source": [
    "### Importação das biblíotecas e bases"
   ]
  },
  {
   "cell_type": "code",
   "execution_count": 72,
   "id": "d5980c41",
   "metadata": {},
   "outputs": [],
   "source": [
    "import pandas as pd \n",
    "import numpy as np\n",
    "import matplotlib.pyplot as plt"
   ]
  },
  {
   "cell_type": "code",
   "execution_count": 73,
   "id": "356d6fb1",
   "metadata": {},
   "outputs": [],
   "source": [
    "novaMatrícula = pd.read_csv('/workspaces/Coleguium-Entrevista/Data/Tratados/Nova_Matrícula_Separada.csv')\n",
    "rematrícula = pd.read_csv('/workspaces/Coleguium-Entrevista/Data/Tratados/Rematrícula_Separada.csv')\n",
    "novaMatrícula['Bolsa'] = novaMatrícula['Bolsa (%)'].str.rstrip('%').str.replace(',', '.').astype(float)\n",
    "rematrícula['Bolsa'] = rematrícula['Bolsa (%)'].str.rstrip('%').str.replace(',', '.').astype(float)"
   ]
  },
  {
   "cell_type": "code",
   "execution_count": 74,
   "id": "9c6b6728",
   "metadata": {},
   "outputs": [],
   "source": [
    "nM = rematrícula\n",
    "rM = novaMatrícula"
   ]
  },
  {
   "cell_type": "markdown",
   "id": "9de5a262",
   "metadata": {},
   "source": [
    "Transformando as Datas em data type"
   ]
  },
  {
   "cell_type": "code",
   "execution_count": 75,
   "id": "08494908",
   "metadata": {},
   "outputs": [
    {
     "data": {
      "text/html": [
       "<div>\n",
       "<style scoped>\n",
       "    .dataframe tbody tr th:only-of-type {\n",
       "        vertical-align: middle;\n",
       "    }\n",
       "\n",
       "    .dataframe tbody tr th {\n",
       "        vertical-align: top;\n",
       "    }\n",
       "\n",
       "    .dataframe thead th {\n",
       "        text-align: right;\n",
       "    }\n",
       "</style>\n",
       "<table border=\"1\" class=\"dataframe\">\n",
       "  <thead>\n",
       "    <tr style=\"text-align: right;\">\n",
       "      <th></th>\n",
       "      <th>Código Candidato</th>\n",
       "      <th>Data de nascimento</th>\n",
       "      <th>Série</th>\n",
       "      <th>Unidade</th>\n",
       "      <th>Data de Inscrição</th>\n",
       "      <th>Data da matrícula</th>\n",
       "      <th>Tipo</th>\n",
       "      <th>Bolsa (%)</th>\n",
       "      <th>Real Anuidade</th>\n",
       "      <th>Diferença</th>\n",
       "      <th>Bolsa</th>\n",
       "    </tr>\n",
       "  </thead>\n",
       "  <tbody>\n",
       "    <tr>\n",
       "      <th>0</th>\n",
       "      <td>CL0002</td>\n",
       "      <td>21/1/2021</td>\n",
       "      <td>Infantil 4</td>\n",
       "      <td>Conceição do Mato Dentro</td>\n",
       "      <td>2024-12-19</td>\n",
       "      <td>2024-12-20</td>\n",
       "      <td>Matrícula nova</td>\n",
       "      <td>50,00%</td>\n",
       "      <td>15.176</td>\n",
       "      <td>1</td>\n",
       "      <td>50.0</td>\n",
       "    </tr>\n",
       "    <tr>\n",
       "      <th>1</th>\n",
       "      <td>CL0019</td>\n",
       "      <td>23/01/2022</td>\n",
       "      <td>Infantil 3</td>\n",
       "      <td>Castelo</td>\n",
       "      <td>2025-01-21</td>\n",
       "      <td>2025-01-27</td>\n",
       "      <td>Matrícula nova</td>\n",
       "      <td>66,60%</td>\n",
       "      <td>6.672</td>\n",
       "      <td>6</td>\n",
       "      <td>66.6</td>\n",
       "    </tr>\n",
       "    <tr>\n",
       "      <th>2</th>\n",
       "      <td>CL0047</td>\n",
       "      <td>19/04/2015</td>\n",
       "      <td>5º ano</td>\n",
       "      <td>Conceição do Mato Dentro</td>\n",
       "      <td>2024-12-02</td>\n",
       "      <td>2024-12-02</td>\n",
       "      <td>Matrícula nova</td>\n",
       "      <td>100,00%</td>\n",
       "      <td>11.471</td>\n",
       "      <td>0</td>\n",
       "      <td>100.0</td>\n",
       "    </tr>\n",
       "    <tr>\n",
       "      <th>3</th>\n",
       "      <td>CL0072</td>\n",
       "      <td>07/09/2022</td>\n",
       "      <td>Infantil 2</td>\n",
       "      <td>Castelo</td>\n",
       "      <td>2024-08-17</td>\n",
       "      <td>2024-12-09</td>\n",
       "      <td>Matrícula nova</td>\n",
       "      <td>65,00%</td>\n",
       "      <td>8.515</td>\n",
       "      <td>114</td>\n",
       "      <td>65.0</td>\n",
       "    </tr>\n",
       "    <tr>\n",
       "      <th>4</th>\n",
       "      <td>CL0102</td>\n",
       "      <td>12/08/2022</td>\n",
       "      <td>Infantil 2</td>\n",
       "      <td>Castelo Manacás</td>\n",
       "      <td>2024-10-31</td>\n",
       "      <td>2025-01-21</td>\n",
       "      <td>Matrícula nova</td>\n",
       "      <td>63,00%</td>\n",
       "      <td>7.453</td>\n",
       "      <td>82</td>\n",
       "      <td>63.0</td>\n",
       "    </tr>\n",
       "    <tr>\n",
       "      <th>...</th>\n",
       "      <td>...</td>\n",
       "      <td>...</td>\n",
       "      <td>...</td>\n",
       "      <td>...</td>\n",
       "      <td>...</td>\n",
       "      <td>...</td>\n",
       "      <td>...</td>\n",
       "      <td>...</td>\n",
       "      <td>...</td>\n",
       "      <td>...</td>\n",
       "      <td>...</td>\n",
       "    </tr>\n",
       "    <tr>\n",
       "      <th>1728</th>\n",
       "      <td>CL9940</td>\n",
       "      <td>08/02/2018</td>\n",
       "      <td>2º ano</td>\n",
       "      <td>Lagoa Santa</td>\n",
       "      <td>2025-01-15</td>\n",
       "      <td>2025-01-15</td>\n",
       "      <td>Matrícula nova</td>\n",
       "      <td>55,00%</td>\n",
       "      <td>11.038</td>\n",
       "      <td>0</td>\n",
       "      <td>55.0</td>\n",
       "    </tr>\n",
       "    <tr>\n",
       "      <th>1729</th>\n",
       "      <td>CL9966</td>\n",
       "      <td>29/6/2015</td>\n",
       "      <td>4º ano</td>\n",
       "      <td>Alípio de Melo</td>\n",
       "      <td>2024-10-10</td>\n",
       "      <td>2024-11-19</td>\n",
       "      <td>Matrícula nova</td>\n",
       "      <td>56,00%</td>\n",
       "      <td>11.106</td>\n",
       "      <td>40</td>\n",
       "      <td>56.0</td>\n",
       "    </tr>\n",
       "    <tr>\n",
       "      <th>1730</th>\n",
       "      <td>CL9979</td>\n",
       "      <td>9/7/2014</td>\n",
       "      <td>5º ano bilíngue</td>\n",
       "      <td>Lagoa Santa</td>\n",
       "      <td>2024-08-16</td>\n",
       "      <td>2024-12-20</td>\n",
       "      <td>Matrícula nova</td>\n",
       "      <td>43,00%</td>\n",
       "      <td>14.421</td>\n",
       "      <td>126</td>\n",
       "      <td>43.0</td>\n",
       "    </tr>\n",
       "    <tr>\n",
       "      <th>1731</th>\n",
       "      <td>CL9987</td>\n",
       "      <td>11/04/2017</td>\n",
       "      <td>2º ano</td>\n",
       "      <td>Nova Suíça</td>\n",
       "      <td>2024-10-14</td>\n",
       "      <td>2024-10-24</td>\n",
       "      <td>Matrícula nova</td>\n",
       "      <td>100,00%</td>\n",
       "      <td>0.000</td>\n",
       "      <td>10</td>\n",
       "      <td>100.0</td>\n",
       "    </tr>\n",
       "    <tr>\n",
       "      <th>1732</th>\n",
       "      <td>CL9991</td>\n",
       "      <td>18/05/2017</td>\n",
       "      <td>3º ano</td>\n",
       "      <td>Carlos Prates</td>\n",
       "      <td>2024-11-13</td>\n",
       "      <td>2024-11-25</td>\n",
       "      <td>Matrícula nova</td>\n",
       "      <td>50,00%</td>\n",
       "      <td>12.530</td>\n",
       "      <td>12</td>\n",
       "      <td>50.0</td>\n",
       "    </tr>\n",
       "  </tbody>\n",
       "</table>\n",
       "<p>1733 rows × 11 columns</p>\n",
       "</div>"
      ],
      "text/plain": [
       "     Código Candidato Data de nascimento            Série  \\\n",
       "0              CL0002          21/1/2021       Infantil 4   \n",
       "1              CL0019         23/01/2022       Infantil 3   \n",
       "2              CL0047         19/04/2015           5º ano   \n",
       "3              CL0072         07/09/2022       Infantil 2   \n",
       "4              CL0102         12/08/2022       Infantil 2   \n",
       "...               ...                ...              ...   \n",
       "1728           CL9940         08/02/2018           2º ano   \n",
       "1729           CL9966          29/6/2015           4º ano   \n",
       "1730           CL9979           9/7/2014  5º ano bilíngue   \n",
       "1731           CL9987         11/04/2017           2º ano   \n",
       "1732           CL9991         18/05/2017           3º ano   \n",
       "\n",
       "                       Unidade Data de Inscrição Data da matrícula  \\\n",
       "0     Conceição do Mato Dentro        2024-12-19        2024-12-20   \n",
       "1                      Castelo        2025-01-21        2025-01-27   \n",
       "2     Conceição do Mato Dentro        2024-12-02        2024-12-02   \n",
       "3                      Castelo        2024-08-17        2024-12-09   \n",
       "4              Castelo Manacás        2024-10-31        2025-01-21   \n",
       "...                        ...               ...               ...   \n",
       "1728               Lagoa Santa        2025-01-15        2025-01-15   \n",
       "1729            Alípio de Melo        2024-10-10        2024-11-19   \n",
       "1730               Lagoa Santa        2024-08-16        2024-12-20   \n",
       "1731                Nova Suíça        2024-10-14        2024-10-24   \n",
       "1732             Carlos Prates        2024-11-13        2024-11-25   \n",
       "\n",
       "                Tipo Bolsa (%)  Real Anuidade  Diferença  Bolsa  \n",
       "0     Matrícula nova    50,00%         15.176          1   50.0  \n",
       "1     Matrícula nova    66,60%          6.672          6   66.6  \n",
       "2     Matrícula nova   100,00%         11.471          0  100.0  \n",
       "3     Matrícula nova    65,00%          8.515        114   65.0  \n",
       "4     Matrícula nova    63,00%          7.453         82   63.0  \n",
       "...              ...       ...            ...        ...    ...  \n",
       "1728  Matrícula nova    55,00%         11.038          0   55.0  \n",
       "1729  Matrícula nova    56,00%         11.106         40   56.0  \n",
       "1730  Matrícula nova    43,00%         14.421        126   43.0  \n",
       "1731  Matrícula nova   100,00%          0.000         10  100.0  \n",
       "1732  Matrícula nova    50,00%         12.530         12   50.0  \n",
       "\n",
       "[1733 rows x 11 columns]"
      ]
     },
     "execution_count": 75,
     "metadata": {},
     "output_type": "execute_result"
    }
   ],
   "source": [
    "nM['Data da matrícula'] = pd.to_datetime(nM['Data da matrícula'], format='mixed', dayfirst=True)\n",
    "rM['Data da matrícula'] = pd.to_datetime(rM['Data da matrícula'], format='mixed', dayfirst=True)\n",
    "rM"
   ]
  },
  {
   "cell_type": "markdown",
   "id": "cfe82669",
   "metadata": {},
   "source": [
    "Colocando as tabelas na ordem das datas"
   ]
  },
  {
   "cell_type": "code",
   "execution_count": 76,
   "id": "a5eb539b",
   "metadata": {},
   "outputs": [
    {
     "data": {
      "text/plain": [
       "Código Candidato              object\n",
       "Data de nascimento            object\n",
       "Série                         object\n",
       "Unidade                       object\n",
       "Data de Inscrição             object\n",
       "Data da matrícula     datetime64[ns]\n",
       "Tipo                          object\n",
       "Bolsa (%)                     object\n",
       "Real Anuidade                float64\n",
       "Diferença                      int64\n",
       "Bolsa                        float64\n",
       "dtype: object"
      ]
     },
     "execution_count": 76,
     "metadata": {},
     "output_type": "execute_result"
    }
   ],
   "source": [
    "nM = nM.sort_values(by = ['Data da matrícula'])\n",
    "rM = rM.sort_values(by = ['Data da matrícula'])\n",
    "rM\n",
    "nM.dtypes"
   ]
  },
  {
   "cell_type": "markdown",
   "id": "f9c6a0c6",
   "metadata": {},
   "source": [
    "### Separando as bases em meses"
   ]
  },
  {
   "cell_type": "code",
   "execution_count": 77,
   "id": "1c77520f",
   "metadata": {},
   "outputs": [],
   "source": [
    "AgostoNM   = nM[nM['Data da matrícula'].dt.strftime('%Y-%m') == '2024-08']\n",
    "AgostoRM   = rM[rM['Data da matrícula'].dt.strftime('%Y-%m') == '2024-08']\n",
    "\n",
    "SetembroNM = nM[nM['Data da matrícula'].dt.strftime('%Y-%m') == '2024-09']\n",
    "SetembroRM = rM[rM['Data da matrícula'].dt.strftime('%Y-%m') == '2024-09']\n",
    "\n",
    "OutubroNM  = nM[nM['Data da matrícula'].dt.strftime('%Y-%m') == '2024-10']\n",
    "OutubroRM  = rM[rM['Data da matrícula'].dt.strftime('%Y-%m') == '2024-10']\n",
    "\n",
    "NovembroNM = nM[nM['Data da matrícula'].dt.strftime('%Y-%m') == '2024-11']\n",
    "NovembroRM = rM[rM['Data da matrícula'].dt.strftime('%Y-%m') == '2024-11']\n",
    "\n",
    "DezembroNM = nM[nM['Data da matrícula'].dt.strftime('%Y-%m') == '2024-12']\n",
    "DezembroRM = rM[rM['Data da matrícula'].dt.strftime('%Y-%m') == '2024-12']\n",
    "\n",
    "JaneiroNM  = nM[nM['Data da matrícula'].dt.strftime('%Y-%m') == '2025-01']\n",
    "JaneiroRM  = rM[rM['Data da matrícula'].dt.strftime('%Y-%m') == '2025-01']\n",
    "\n",
    "FevereiroNM = nM[nM['Data da matrícula'].dt.strftime('%Y-%m') == '2025-02']\n",
    "FevereiroRM = rM[rM['Data da matrícula'].dt.strftime('%Y-%m') == '2025-02']"
   ]
  },
  {
   "cell_type": "markdown",
   "id": "e232e845",
   "metadata": {},
   "source": [
    "Criando os data frames com as informações"
   ]
  },
  {
   "cell_type": "code",
   "execution_count": 78,
   "id": "fe6373dd",
   "metadata": {},
   "outputs": [],
   "source": [
    "dataNovaMatrícula = {\n",
    "    'Meses' : ['Agosto', 'Setembro', 'Outubro','Novembro', 'Dezembro', 'Janeiro', 'Fevereiro'],\n",
    "    'Media de Descontos' : [round(AgostoNM['Bolsa'].mean()), round(SetembroNM['Bolsa'].mean()), round(OutubroNM['Bolsa'].mean()), round(NovembroNM['Bolsa'].mean()), round(DezembroNM['Bolsa'].mean()), round(JaneiroNM['Bolsa'].mean()), round(FevereiroNM['Bolsa'].mean())],\n",
    "    'Número de matrículas' : [AgostoNM['Bolsa'].count(), SetembroNM['Bolsa'].count(), OutubroNM['Bolsa'].count(), NovembroNM['Bolsa'].count(), DezembroNM['Bolsa'].count(), JaneiroNM['Bolsa'].count(), FevereiroNM['Bolsa'].count()]\n",
    "}"
   ]
  },
  {
   "cell_type": "code",
   "execution_count": null,
   "id": "9e62adf8",
   "metadata": {},
   "outputs": [],
   "source": [
    "mesesNovaMatrícula = pd.DataFrame(dataNovaMatrícula)\n",
    "mesesNovaMatrícula"
   ]
  },
  {
   "cell_type": "code",
   "execution_count": 81,
   "id": "44340d0d",
   "metadata": {},
   "outputs": [],
   "source": [
    "dataRematrícula = {\n",
    "    'Meses' : ['Agosto', 'Setembro', 'Outubro','Novembro', 'Dezembro', 'Janeiro', 'Fevereiro'],\n",
    "    'Media de Descontos' : [round(AgostoRM['Bolsa'].mean()), round(SetembroRM['Bolsa'].mean()), round(OutubroRM['Bolsa'].mean()), round(NovembroRM['Bolsa'].mean()), round(DezembroRM['Bolsa'].mean()), round(JaneiroRM['Bolsa'].mean()), round(FevereiroRM['Bolsa'].mean())],\n",
    "    'Número de matrículas' : [AgostoRM['Bolsa'].count(), SetembroRM['Bolsa'].count(), OutubroRM['Bolsa'].count(), NovembroRM['Bolsa'].count(), DezembroRM['Bolsa'].count(), JaneiroRM['Bolsa'].count(), FevereiroRM['Bolsa'].count()]\n",
    "}"
   ]
  },
  {
   "cell_type": "code",
   "execution_count": 82,
   "id": "53ab22da",
   "metadata": {},
   "outputs": [
    {
     "data": {
      "text/html": [
       "<div>\n",
       "<style scoped>\n",
       "    .dataframe tbody tr th:only-of-type {\n",
       "        vertical-align: middle;\n",
       "    }\n",
       "\n",
       "    .dataframe tbody tr th {\n",
       "        vertical-align: top;\n",
       "    }\n",
       "\n",
       "    .dataframe thead th {\n",
       "        text-align: right;\n",
       "    }\n",
       "</style>\n",
       "<table border=\"1\" class=\"dataframe\">\n",
       "  <thead>\n",
       "    <tr style=\"text-align: right;\">\n",
       "      <th></th>\n",
       "      <th>Meses</th>\n",
       "      <th>Media de Descontos</th>\n",
       "      <th>Número de matrículas</th>\n",
       "    </tr>\n",
       "  </thead>\n",
       "  <tbody>\n",
       "    <tr>\n",
       "      <th>0</th>\n",
       "      <td>Agosto</td>\n",
       "      <td>48</td>\n",
       "      <td>94</td>\n",
       "    </tr>\n",
       "    <tr>\n",
       "      <th>1</th>\n",
       "      <td>Setembro</td>\n",
       "      <td>51</td>\n",
       "      <td>196</td>\n",
       "    </tr>\n",
       "    <tr>\n",
       "      <th>2</th>\n",
       "      <td>Outubro</td>\n",
       "      <td>53</td>\n",
       "      <td>272</td>\n",
       "    </tr>\n",
       "    <tr>\n",
       "      <th>3</th>\n",
       "      <td>Novembro</td>\n",
       "      <td>57</td>\n",
       "      <td>357</td>\n",
       "    </tr>\n",
       "    <tr>\n",
       "      <th>4</th>\n",
       "      <td>Dezembro</td>\n",
       "      <td>62</td>\n",
       "      <td>285</td>\n",
       "    </tr>\n",
       "    <tr>\n",
       "      <th>5</th>\n",
       "      <td>Janeiro</td>\n",
       "      <td>63</td>\n",
       "      <td>466</td>\n",
       "    </tr>\n",
       "    <tr>\n",
       "      <th>6</th>\n",
       "      <td>Fevereiro</td>\n",
       "      <td>66</td>\n",
       "      <td>63</td>\n",
       "    </tr>\n",
       "  </tbody>\n",
       "</table>\n",
       "</div>"
      ],
      "text/plain": [
       "       Meses  Media de Descontos  Número de matrículas\n",
       "0     Agosto                  48                    94\n",
       "1   Setembro                  51                   196\n",
       "2    Outubro                  53                   272\n",
       "3   Novembro                  57                   357\n",
       "4   Dezembro                  62                   285\n",
       "5    Janeiro                  63                   466\n",
       "6  Fevereiro                  66                    63"
      ]
     },
     "execution_count": 82,
     "metadata": {},
     "output_type": "execute_result"
    }
   ],
   "source": [
    "mesesRematrícula = pd.DataFrame(dataRematrícula)\n",
    "mesesRematrícula"
   ]
  },
  {
   "cell_type": "markdown",
   "id": "f86e1f8c",
   "metadata": {},
   "source": [
    "### Gráficos"
   ]
  },
  {
   "cell_type": "code",
   "execution_count": 83,
   "id": "bd7f6e2a",
   "metadata": {},
   "outputs": [
    {
     "data": {
      "text/plain": [
       "<matplotlib.legend.Legend at 0x70c11dce71a0>"
      ]
     },
     "execution_count": 83,
     "metadata": {},
     "output_type": "execute_result"
    },
    {
     "data": {
      "image/png": "[encoded data removed]",
      "text/plain": [
       "<Figure size 1000x400 with 1 Axes>"
      ]
     },
     "metadata": {},
     "output_type": "display_data"
    }
   ],
   "source": [
    "fig = plt.subplots(figsize=(10, 4))\n",
    "\n",
    "plt.plot(mesesRematrícula['Meses'], mesesRematrícula['Número de matrículas'], color = '#F28E2B', label = 'Rematrícula')\n",
    "plt.plot(mesesNovaMatrícula['Meses'], mesesNovaMatrícula['Número de matrículas'], color = '#4E79A7', label = 'Nova Matrícula')\n",
    "\n",
    "plt.grid(axis=('both'), linestyle='--', alpha=0.3)\n",
    "plt.title(\"Número de matrículas pelos meses\", fontsize=14, weight='bold')\n",
    "plt.legend()"
   ]
  },
  {
   "cell_type": "code",
   "execution_count": 84,
   "id": "457aff66",
   "metadata": {},
   "outputs": [
    {
     "data": {
      "text/plain": [
       "<matplotlib.legend.Legend at 0x70c11c8dfec0>"
      ]
     },
     "execution_count": 84,
     "metadata": {},
     "output_type": "execute_result"
    },
    {
     "data": {
      "image/png": "[encoded data removed]",
      "text/plain": [
       "<Figure size 1200x400 with 1 Axes>"
      ]
     },
     "metadata": {},
     "output_type": "display_data"
    }
   ],
   "source": [
    "fig = plt.subplots(figsize=(12, 4))\n",
    "\n",
    "plt.bar(mesesRematrícula['Meses'], mesesRematrícula['Media de Descontos'], color = '#F28E2B', label = 'Rematrícula')\n",
    "plt.bar(mesesNovaMatrícula['Meses'], mesesNovaMatrícula['Media de Descontos'], color = '#5E79A7', label = 'Nova Matrícula', alpha = 0.8)\n",
    "\n",
    "\n",
    "plt.grid(axis=('y'), linestyle='--', alpha=0.2)\n",
    "plt.title(\"Média de descontos pelos meses\", fontsize=14, weight='bold')\n",
    "plt.legend()"
   ]
  }
 ],
 "metadata": {
  "kernelspec": {
   "display_name": "Python 3",
   "language": "python",
   "name": "python3"
  },
  "language_info": {
   "codemirror_mode": {
    "name": "ipython",
    "version": 3
   },
   "file_extension": ".py",
   "mimetype": "text/x-python",
   "name": "python",
   "nbconvert_exporter": "python",
   "pygments_lexer": "ipython3",
   "version": "3.12.1"
  }
 },
 "nbformat": 4,
 "nbformat_minor": 5
}
