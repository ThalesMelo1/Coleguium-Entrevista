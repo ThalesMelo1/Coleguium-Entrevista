{
 "cells": [
  {
   "cell_type": "markdown",
   "id": "5670fca0",
   "metadata": {},
   "source": [
    "# Case Coleguium"
   ]
  },
  {
   "cell_type": "markdown",
   "id": "f32f622a",
   "metadata": {},
   "source": [
    "### Upload e concatenação das tabelas"
   ]
  },
  {
   "cell_type": "markdown",
   "id": "2046e493",
   "metadata": {},
   "source": [
    "Importando bibliotecas de python para tratamento dos dados"
   ]
  },
  {
   "cell_type": "code",
   "execution_count": null,
   "id": "4a6a6666",
   "metadata": {},
   "outputs": [],
   "source": [
    "import pandas as pd\n",
    "import numpy as np"
   ]
  },
  {
   "cell_type": "code",
   "execution_count": null,
   "id": "7617ad79",
   "metadata": {},
   "outputs": [],
   "source": [
    "Matricula = pd.read_csv('/workspaces/Coleguium-Entrevista/Data/case_-_assistente_de_dados.xlsx - Base de matriculados.csv')"
   ]
  },
  {
   "cell_type": "code",
   "execution_count": null,
   "id": "2e90919b",
   "metadata": {},
   "outputs": [],
   "source": [
    "Inscritos = pd.read_csv('/workspaces/Coleguium-Entrevista/Data/case_-_assistente_de_dados.xlsx - Base de Inscritos.csv')"
   ]
  },
  {
   "cell_type": "markdown",
   "id": "c1a18bae",
   "metadata": {},
   "source": [
    "Mesclagem"
   ]
  },
  {
   "cell_type": "code",
   "execution_count": null,
   "id": "74e7079f",
   "metadata": {},
   "outputs": [],
   "source": [
    "Assistente = Inscritos.merge(Matricula, on = 'Código Candidato', how = 'left')\n",
    "Assistente = Assistente.drop(columns = 'Unidade_x')"
   ]
  },
  {
   "cell_type": "markdown",
   "id": "b8f953aa",
   "metadata": {},
   "source": [
    "Organizado em ordem crescente pelo código do candidato"
   ]
  },
  {
   "cell_type": "code",
   "execution_count": null,
   "id": "ebd3f269",
   "metadata": {},
   "outputs": [],
   "source": [
    "Assistente = Assistente.sort_values(by = 'Código Candidato')\n",
    "Assistente = Assistente.rename(columns={'Unidade_y': 'Unidade'})\n",
    "Assistente = Assistente[['Código Candidato', 'Data de nascimento', 'Série', 'Unidade', 'Data de Inscrição', 'Data da matrícula','Tipo','Bolsa (%)', 'Real Anuidade']] "
   ]
  },
  {
   "cell_type": "code",
   "execution_count": null,
   "id": "2cb33fc5",
   "metadata": {},
   "outputs": [],
   "source": [
    "Assistente"
   ]
  },
  {
   "cell_type": "code",
   "execution_count": null,
   "id": "a3c8e15e",
   "metadata": {},
   "outputs": [],
   "source": [
    "Assistente.dtypes"
   ]
  },
  {
   "cell_type": "markdown",
   "id": "8f10ffd9",
   "metadata": {},
   "source": [
    "### Tratamento de nulos"
   ]
  },
  {
   "cell_type": "markdown",
   "id": "27d50480",
   "metadata": {},
   "source": [
    "Verificação de nulos"
   ]
  },
  {
   "cell_type": "code",
   "execution_count": null,
   "id": "32f2df44",
   "metadata": {},
   "outputs": [],
   "source": [
    "for col in Assistente.columns:\n",
    "  nulos = Assistente[col].isnull().sum()\n",
    "  print(f'A coluna {col} tem {nulos} nulos')"
   ]
  },
  {
   "cell_type": "markdown",
   "id": "112309ca",
   "metadata": {},
   "source": [
    "Exclusão dos nulos"
   ]
  },
  {
   "cell_type": "code",
   "execution_count": null,
   "id": "dfcc9d5e",
   "metadata": {},
   "outputs": [],
   "source": [
    "Assistente = Assistente.dropna(subset = 'Data de Inscrição')\n",
    "Assistente = Assistente.dropna(subset = 'Data da matrícula')"
   ]
  },
  {
   "cell_type": "markdown",
   "id": "9ad7223a",
   "metadata": {},
   "source": [
    "Confirmação"
   ]
  },
  {
   "cell_type": "code",
   "execution_count": null,
   "id": "79e7e04c",
   "metadata": {},
   "outputs": [],
   "source": [
    "for col in Assistente.columns:\n",
    "  nulos = Assistente[col].isnull().sum()\n",
    "  print(f'A coluna {col} tem {nulos} nulos')"
   ]
  },
  {
   "cell_type": "markdown",
   "id": "f7d034b4",
   "metadata": {},
   "source": [
    "### Calculo da diferença de datas"
   ]
  },
  {
   "cell_type": "markdown",
   "id": "6408aca8",
   "metadata": {},
   "source": [
    "Formatação das datas"
   ]
  },
  {
   "cell_type": "code",
   "execution_count": null,
   "id": "37dfe855",
   "metadata": {},
   "outputs": [],
   "source": [
    "Assistente['Data de Inscrição'] = pd.to_datetime(Assistente['Data de Inscrição'], format='mixed', dayfirst=True)\n",
    "Assistente['Data de Inscrição'] = Assistente['Data de Inscrição'].dt.date\n",
    "Assistente['Data de Inscrição'] = pd.to_datetime(Assistente['Data de Inscrição'], format='%d/%m/%Y', dayfirst=True)\n",
    "Assistente['Data da matrícula'] = pd.to_datetime(Assistente['Data da matrícula'], format=\"%d/%m/%Y\")"
   ]
  },
  {
   "cell_type": "code",
   "execution_count": null,
   "id": "91b09c86",
   "metadata": {},
   "outputs": [],
   "source": [
    "Assistente['Diferença'] = (Assistente['Data da matrícula'] - Assistente['Data de Inscrição']).dt.days"
   ]
  },
  {
   "cell_type": "markdown",
   "id": "5b7f0e91",
   "metadata": {},
   "source": [
    "#### Média das datas da matrícula nova"
   ]
  },
  {
   "cell_type": "code",
   "execution_count": null,
   "id": "8afd2b29",
   "metadata": {},
   "outputs": [],
   "source": [
    "matriculaNova = Assistente.loc[Assistente['Tipo'] == 'Matrícula nova']\n",
    "matriculaNova"
   ]
  },
  {
   "cell_type": "code",
   "execution_count": null,
   "id": "eea61a36",
   "metadata": {},
   "outputs": [],
   "source": [
    "print(\"A média de dias para fazer uma nova matrícula é de:\", round(matriculaNova['Diferença'].mean()), \"dias.\")"
   ]
  },
  {
   "cell_type": "markdown",
   "id": "4c989fb4",
   "metadata": {},
   "source": [
    "#### Média das datas da Rematrícula"
   ]
  },
  {
   "cell_type": "code",
   "execution_count": null,
   "id": "517c9057",
   "metadata": {},
   "outputs": [],
   "source": [
    "rematrícula = Assistente.loc[Assistente['Tipo'] == 'Rematrícula']\n",
    "rematrícula"
   ]
  },
  {
   "cell_type": "code",
   "execution_count": null,
   "id": "ce8761e0",
   "metadata": {},
   "outputs": [],
   "source": [
    "print(\"A média de dias para fazer uma rematrícula é de:\", round(rematrícula['Diferença'].mean()), \"dias.\")"
   ]
  }
 ],
 "metadata": {
  "kernelspec": {
   "display_name": "Python 3",
   "language": "python",
   "name": "python3"
  },
  "language_info": {
   "codemirror_mode": {
    "name": "ipython",
    "version": 3
   },
   "file_extension": ".py",
   "mimetype": "text/x-python",
   "name": "python",
   "nbconvert_exporter": "python",
   "pygments_lexer": "ipython3",
   "version": "3.12.1"
  }
 },
 "nbformat": 4,
 "nbformat_minor": 5
}
