{
 "cells": [
  {
   "cell_type": "markdown",
   "id": "5670fca0",
   "metadata": {},
   "source": [
    "# Case Coleguium"
   ]
  },
  {
   "cell_type": "markdown",
   "id": "f32f622a",
   "metadata": {},
   "source": [
    "### Upload e concatenação das tabelas"
   ]
  },
  {
   "cell_type": "markdown",
   "id": "2046e493",
   "metadata": {},
   "source": [
    "Importando bibliotecas de python para tratamento dos dados"
   ]
  },
  {
   "cell_type": "code",
   "execution_count": 68,
   "id": "4a6a6666",
   "metadata": {},
   "outputs": [],
   "source": [
    "import pandas as pd\n",
    "import numpy as np"
   ]
  },
  {
   "cell_type": "code",
   "execution_count": 69,
   "id": "7617ad79",
   "metadata": {},
   "outputs": [],
   "source": [
    "Matricula = pd.read_csv('/workspaces/Coleguium-Entrevista/Data/case_-_assistente_de_dados.xlsx - Base de matriculados.csv')"
   ]
  },
  {
   "cell_type": "code",
   "execution_count": 70,
   "id": "2e90919b",
   "metadata": {},
   "outputs": [],
   "source": [
    "Inscritos = pd.read_csv('/workspaces/Coleguium-Entrevista/Data/case_-_assistente_de_dados.xlsx - Base de Inscritos.csv')"
   ]
  },
  {
   "cell_type": "markdown",
   "id": "c1a18bae",
   "metadata": {},
   "source": [
    "Mesclagem"
   ]
  },
  {
   "cell_type": "code",
   "execution_count": 71,
   "id": "74e7079f",
   "metadata": {},
   "outputs": [],
   "source": [
    "Assistente = Matricula.merge(Inscritos, on = 'Código Candidato', how = 'left')\n",
    "Assistente = Assistente.drop(columns = 'Unidade_x')"
   ]
  },
  {
   "cell_type": "markdown",
   "id": "b8f953aa",
   "metadata": {},
   "source": [
    "Organizado em ordem crescente pelo código do candidato"
   ]
  },
  {
   "cell_type": "code",
   "execution_count": 72,
   "id": "ebd3f269",
   "metadata": {},
   "outputs": [],
   "source": [
    "Assistente = Assistente.sort_values(by = 'Código Candidato') "
   ]
  },
  {
   "cell_type": "code",
   "execution_count": 73,
   "id": "2cb33fc5",
   "metadata": {},
   "outputs": [
    {
     "data": {
      "text/html": [
       "<div>\n",
       "<style scoped>\n",
       "    .dataframe tbody tr th:only-of-type {\n",
       "        vertical-align: middle;\n",
       "    }\n",
       "\n",
       "    .dataframe tbody tr th {\n",
       "        vertical-align: top;\n",
       "    }\n",
       "\n",
       "    .dataframe thead th {\n",
       "        text-align: right;\n",
       "    }\n",
       "</style>\n",
       "<table border=\"1\" class=\"dataframe\">\n",
       "  <thead>\n",
       "    <tr style=\"text-align: right;\">\n",
       "      <th></th>\n",
       "      <th>Código Candidato</th>\n",
       "      <th>Turma</th>\n",
       "      <th>Turno</th>\n",
       "      <th>Data de nascimento</th>\n",
       "      <th>Data da matrícula</th>\n",
       "      <th>Bolsa (%)</th>\n",
       "      <th>Real Anuidade</th>\n",
       "      <th>Unidade_y</th>\n",
       "      <th>Série</th>\n",
       "      <th>Data de Inscrição</th>\n",
       "      <th>Tipo</th>\n",
       "    </tr>\n",
       "  </thead>\n",
       "  <tbody>\n",
       "    <tr>\n",
       "      <th>2989</th>\n",
       "      <td>CL0001</td>\n",
       "      <td>3ª Série</td>\n",
       "      <td>Manhã</td>\n",
       "      <td>12/4/2008</td>\n",
       "      <td>10/10/2024</td>\n",
       "      <td>23,40%</td>\n",
       "      <td>32.406</td>\n",
       "      <td>Ouro Preto</td>\n",
       "      <td>3ª série</td>\n",
       "      <td>18/08/2024 22:46:00</td>\n",
       "      <td>Rematrícula</td>\n",
       "    </tr>\n",
       "    <tr>\n",
       "      <th>9484</th>\n",
       "      <td>CL0002</td>\n",
       "      <td>Infantil 4</td>\n",
       "      <td>Tarde</td>\n",
       "      <td>21/1/2021</td>\n",
       "      <td>20/12/2024</td>\n",
       "      <td>50,00%</td>\n",
       "      <td>15.176</td>\n",
       "      <td>Conceição do Mato Dentro</td>\n",
       "      <td>Infantil 4</td>\n",
       "      <td>19/12/2024 15:13:00</td>\n",
       "      <td>Matrícula nova</td>\n",
       "    </tr>\n",
       "    <tr>\n",
       "      <th>9673</th>\n",
       "      <td>CL0002</td>\n",
       "      <td>Infantil 4</td>\n",
       "      <td>Tarde</td>\n",
       "      <td>21/01/2021</td>\n",
       "      <td>20/12/2024</td>\n",
       "      <td>50,00%</td>\n",
       "      <td>15.176</td>\n",
       "      <td>Conceição do Mato Dentro</td>\n",
       "      <td>Infantil 4</td>\n",
       "      <td>19/12/2024 15:13:00</td>\n",
       "      <td>Matrícula nova</td>\n",
       "    </tr>\n",
       "    <tr>\n",
       "      <th>6245</th>\n",
       "      <td>CL0006</td>\n",
       "      <td>6º ano</td>\n",
       "      <td>Manhã</td>\n",
       "      <td>07/11/2013</td>\n",
       "      <td>03/12/2024</td>\n",
       "      <td>100,00%</td>\n",
       "      <td>23.427</td>\n",
       "      <td>Carajás</td>\n",
       "      <td>6º ano</td>\n",
       "      <td>18/08/2024 22:44:00</td>\n",
       "      <td>Rematrícula</td>\n",
       "    </tr>\n",
       "    <tr>\n",
       "      <th>10059</th>\n",
       "      <td>CL0017</td>\n",
       "      <td>Infantil 5</td>\n",
       "      <td>Tarde</td>\n",
       "      <td>1/12/2019</td>\n",
       "      <td>10/10/2024</td>\n",
       "      <td>60,00%</td>\n",
       "      <td>11.237</td>\n",
       "      <td>Jardim Canadá</td>\n",
       "      <td>Infantil 5</td>\n",
       "      <td>18/08/2024 22:46:00</td>\n",
       "      <td>Rematrícula</td>\n",
       "    </tr>\n",
       "    <tr>\n",
       "      <th>...</th>\n",
       "      <td>...</td>\n",
       "      <td>...</td>\n",
       "      <td>...</td>\n",
       "      <td>...</td>\n",
       "      <td>...</td>\n",
       "      <td>...</td>\n",
       "      <td>...</td>\n",
       "      <td>...</td>\n",
       "      <td>...</td>\n",
       "      <td>...</td>\n",
       "      <td>...</td>\n",
       "    </tr>\n",
       "    <tr>\n",
       "      <th>2395</th>\n",
       "      <td>não encontrado</td>\n",
       "      <td>2º ano</td>\n",
       "      <td>Tarde</td>\n",
       "      <td>19/05/2017</td>\n",
       "      <td>06/12/2024</td>\n",
       "      <td>60,00%</td>\n",
       "      <td>7.374</td>\n",
       "      <td>NaN</td>\n",
       "      <td>NaN</td>\n",
       "      <td>NaN</td>\n",
       "      <td>NaN</td>\n",
       "    </tr>\n",
       "    <tr>\n",
       "      <th>2544</th>\n",
       "      <td>não encontrado</td>\n",
       "      <td>2º ano</td>\n",
       "      <td>Tarde</td>\n",
       "      <td>26/8/2017</td>\n",
       "      <td>26/11/2024</td>\n",
       "      <td>47,40%</td>\n",
       "      <td>9.267</td>\n",
       "      <td>NaN</td>\n",
       "      <td>NaN</td>\n",
       "      <td>NaN</td>\n",
       "      <td>NaN</td>\n",
       "    </tr>\n",
       "    <tr>\n",
       "      <th>2508</th>\n",
       "      <td>não encontrado</td>\n",
       "      <td>2º ano</td>\n",
       "      <td>Tarde</td>\n",
       "      <td>24/01/2018</td>\n",
       "      <td>23/10/2024</td>\n",
       "      <td>50,00%</td>\n",
       "      <td>13.031</td>\n",
       "      <td>NaN</td>\n",
       "      <td>NaN</td>\n",
       "      <td>NaN</td>\n",
       "      <td>NaN</td>\n",
       "    </tr>\n",
       "    <tr>\n",
       "      <th>4757</th>\n",
       "      <td>não encontrado</td>\n",
       "      <td>4º ano</td>\n",
       "      <td>Tarde</td>\n",
       "      <td>04/10/2015</td>\n",
       "      <td>19/10/2024</td>\n",
       "      <td>58,50%</td>\n",
       "      <td>12.109</td>\n",
       "      <td>NaN</td>\n",
       "      <td>NaN</td>\n",
       "      <td>NaN</td>\n",
       "      <td>NaN</td>\n",
       "    </tr>\n",
       "    <tr>\n",
       "      <th>2269</th>\n",
       "      <td>não encontrado</td>\n",
       "      <td>2ª Série</td>\n",
       "      <td>Manhã</td>\n",
       "      <td>18/02/2009</td>\n",
       "      <td>03/09/2024</td>\n",
       "      <td>38,00%</td>\n",
       "      <td>23.757</td>\n",
       "      <td>NaN</td>\n",
       "      <td>NaN</td>\n",
       "      <td>NaN</td>\n",
       "      <td>NaN</td>\n",
       "    </tr>\n",
       "  </tbody>\n",
       "</table>\n",
       "<p>10340 rows × 11 columns</p>\n",
       "</div>"
      ],
      "text/plain": [
       "      Código Candidato       Turma  Turno Data de nascimento  \\\n",
       "2989            CL0001    3ª Série  Manhã          12/4/2008   \n",
       "9484            CL0002  Infantil 4  Tarde          21/1/2021   \n",
       "9673            CL0002  Infantil 4  Tarde         21/01/2021   \n",
       "6245            CL0006      6º ano  Manhã         07/11/2013   \n",
       "10059           CL0017  Infantil 5  Tarde          1/12/2019   \n",
       "...                ...         ...    ...                ...   \n",
       "2395    não encontrado      2º ano  Tarde         19/05/2017   \n",
       "2544    não encontrado      2º ano  Tarde          26/8/2017   \n",
       "2508    não encontrado      2º ano  Tarde         24/01/2018   \n",
       "4757    não encontrado      4º ano  Tarde         04/10/2015   \n",
       "2269    não encontrado    2ª Série  Manhã         18/02/2009   \n",
       "\n",
       "      Data da matrícula Bolsa (%)  Real Anuidade                 Unidade_y  \\\n",
       "2989         10/10/2024    23,40%         32.406                Ouro Preto   \n",
       "9484         20/12/2024    50,00%         15.176  Conceição do Mato Dentro   \n",
       "9673         20/12/2024    50,00%         15.176  Conceição do Mato Dentro   \n",
       "6245         03/12/2024   100,00%         23.427                   Carajás   \n",
       "10059        10/10/2024    60,00%         11.237             Jardim Canadá   \n",
       "...                 ...       ...            ...                       ...   \n",
       "2395         06/12/2024    60,00%          7.374                       NaN   \n",
       "2544         26/11/2024    47,40%          9.267                       NaN   \n",
       "2508         23/10/2024    50,00%         13.031                       NaN   \n",
       "4757         19/10/2024    58,50%         12.109                       NaN   \n",
       "2269         03/09/2024    38,00%         23.757                       NaN   \n",
       "\n",
       "            Série    Data de Inscrição            Tipo  \n",
       "2989     3ª série  18/08/2024 22:46:00     Rematrícula  \n",
       "9484   Infantil 4  19/12/2024 15:13:00  Matrícula nova  \n",
       "9673   Infantil 4  19/12/2024 15:13:00  Matrícula nova  \n",
       "6245       6º ano  18/08/2024 22:44:00     Rematrícula  \n",
       "10059  Infantil 5  18/08/2024 22:46:00     Rematrícula  \n",
       "...           ...                  ...             ...  \n",
       "2395          NaN                  NaN             NaN  \n",
       "2544          NaN                  NaN             NaN  \n",
       "2508          NaN                  NaN             NaN  \n",
       "4757          NaN                  NaN             NaN  \n",
       "2269          NaN                  NaN             NaN  \n",
       "\n",
       "[10340 rows x 11 columns]"
      ]
     },
     "execution_count": 73,
     "metadata": {},
     "output_type": "execute_result"
    }
   ],
   "source": [
    "Assistente"
   ]
  },
  {
   "cell_type": "markdown",
   "id": "8f10ffd9",
   "metadata": {},
   "source": [
    "### Tratamento de nulos"
   ]
  },
  {
   "cell_type": "markdown",
   "id": "27d50480",
   "metadata": {},
   "source": [
    "Verificação de nulos"
   ]
  },
  {
   "cell_type": "code",
   "execution_count": 74,
   "id": "32f2df44",
   "metadata": {},
   "outputs": [
    {
     "name": "stdout",
     "output_type": "stream",
     "text": [
      "A coluna Código Candidato tem 0 nulos\n",
      "A coluna Turma tem 0 nulos\n",
      "A coluna Turno tem 0 nulos\n",
      "A coluna Data de nascimento tem 0 nulos\n",
      "A coluna Data da matrícula tem 42 nulos\n",
      "A coluna Bolsa (%) tem 0 nulos\n",
      "A coluna Real Anuidade tem 0 nulos\n",
      "A coluna Unidade_y tem 17 nulos\n",
      "A coluna Série tem 17 nulos\n",
      "A coluna Data de Inscrição tem 17 nulos\n",
      "A coluna Tipo tem 17 nulos\n"
     ]
    }
   ],
   "source": [
    "for col in Assistente.columns:\n",
    "  nulos = Assistente[col].isnull().sum()\n",
    "  print(f'A coluna {col} tem {nulos} nulos')"
   ]
  },
  {
   "cell_type": "markdown",
   "id": "112309ca",
   "metadata": {},
   "source": [
    "Exclusão dos nulos"
   ]
  },
  {
   "cell_type": "code",
   "execution_count": 75,
   "id": "dfcc9d5e",
   "metadata": {},
   "outputs": [],
   "source": [
    "Assistente = Assistente.dropna(subset = 'Data de Inscrição')\n",
    "Assistente = Assistente.dropna(subset = 'Data da matrícula')"
   ]
  },
  {
   "cell_type": "markdown",
   "id": "9ad7223a",
   "metadata": {},
   "source": [
    "Confirmação"
   ]
  },
  {
   "cell_type": "code",
   "execution_count": 76,
   "id": "79e7e04c",
   "metadata": {},
   "outputs": [
    {
     "name": "stdout",
     "output_type": "stream",
     "text": [
      "A coluna Código Candidato tem 0 nulos\n",
      "A coluna Turma tem 0 nulos\n",
      "A coluna Turno tem 0 nulos\n",
      "A coluna Data de nascimento tem 0 nulos\n",
      "A coluna Data da matrícula tem 0 nulos\n",
      "A coluna Bolsa (%) tem 0 nulos\n",
      "A coluna Real Anuidade tem 0 nulos\n",
      "A coluna Unidade_y tem 0 nulos\n",
      "A coluna Série tem 0 nulos\n",
      "A coluna Data de Inscrição tem 0 nulos\n",
      "A coluna Tipo tem 0 nulos\n"
     ]
    }
   ],
   "source": [
    "for col in Assistente.columns:\n",
    "  nulos = Assistente[col].isnull().sum()\n",
    "  print(f'A coluna {col} tem {nulos} nulos')"
   ]
  },
  {
   "cell_type": "markdown",
   "id": "f7d034b4",
   "metadata": {},
   "source": [
    "### Calculo da diferença de datas"
   ]
  },
  {
   "cell_type": "code",
   "execution_count": 81,
   "id": "ca52864e",
   "metadata": {},
   "outputs": [
    {
     "ename": "TypeError",
     "evalue": "unsupported operand type(s) for -: 'str' and 'str'",
     "output_type": "error",
     "traceback": [
      "\u001b[31m---------------------------------------------------------------------------\u001b[39m",
      "\u001b[31mTypeError\u001b[39m                                 Traceback (most recent call last)",
      "\u001b[36mFile \u001b[39m\u001b[32m~/.local/lib/python3.12/site-packages/pandas/core/ops/array_ops.py:218\u001b[39m, in \u001b[36m_na_arithmetic_op\u001b[39m\u001b[34m(left, right, op, is_cmp)\u001b[39m\n\u001b[32m    217\u001b[39m \u001b[38;5;28;01mtry\u001b[39;00m:\n\u001b[32m--> \u001b[39m\u001b[32m218\u001b[39m     result = \u001b[43mfunc\u001b[49m\u001b[43m(\u001b[49m\u001b[43mleft\u001b[49m\u001b[43m,\u001b[49m\u001b[43m \u001b[49m\u001b[43mright\u001b[49m\u001b[43m)\u001b[49m\n\u001b[32m    219\u001b[39m \u001b[38;5;28;01mexcept\u001b[39;00m \u001b[38;5;167;01mTypeError\u001b[39;00m:\n",
      "\u001b[36mFile \u001b[39m\u001b[32m~/.local/lib/python3.12/site-packages/pandas/core/computation/expressions.py:242\u001b[39m, in \u001b[36mevaluate\u001b[39m\u001b[34m(op, a, b, use_numexpr)\u001b[39m\n\u001b[32m    240\u001b[39m     \u001b[38;5;28;01mif\u001b[39;00m use_numexpr:\n\u001b[32m    241\u001b[39m         \u001b[38;5;66;03m# error: \"None\" not callable\u001b[39;00m\n\u001b[32m--> \u001b[39m\u001b[32m242\u001b[39m         \u001b[38;5;28;01mreturn\u001b[39;00m \u001b[43m_evaluate\u001b[49m\u001b[43m(\u001b[49m\u001b[43mop\u001b[49m\u001b[43m,\u001b[49m\u001b[43m \u001b[49m\u001b[43mop_str\u001b[49m\u001b[43m,\u001b[49m\u001b[43m \u001b[49m\u001b[43ma\u001b[49m\u001b[43m,\u001b[49m\u001b[43m \u001b[49m\u001b[43mb\u001b[49m\u001b[43m)\u001b[49m  \u001b[38;5;66;03m# type: ignore[misc]\u001b[39;00m\n\u001b[32m    243\u001b[39m \u001b[38;5;28;01mreturn\u001b[39;00m _evaluate_standard(op, op_str, a, b)\n",
      "\u001b[36mFile \u001b[39m\u001b[32m~/.local/lib/python3.12/site-packages/pandas/core/computation/expressions.py:73\u001b[39m, in \u001b[36m_evaluate_standard\u001b[39m\u001b[34m(op, op_str, a, b)\u001b[39m\n\u001b[32m     72\u001b[39m     _store_test_result(\u001b[38;5;28;01mFalse\u001b[39;00m)\n\u001b[32m---> \u001b[39m\u001b[32m73\u001b[39m \u001b[38;5;28;01mreturn\u001b[39;00m \u001b[43mop\u001b[49m\u001b[43m(\u001b[49m\u001b[43ma\u001b[49m\u001b[43m,\u001b[49m\u001b[43m \u001b[49m\u001b[43mb\u001b[49m\u001b[43m)\u001b[49m\n",
      "\u001b[31mTypeError\u001b[39m: unsupported operand type(s) for -: 'str' and 'str'",
      "\nDuring handling of the above exception, another exception occurred:\n",
      "\u001b[31mTypeError\u001b[39m                                 Traceback (most recent call last)",
      "\u001b[36mCell\u001b[39m\u001b[36m \u001b[39m\u001b[32mIn[81]\u001b[39m\u001b[32m, line 1\u001b[39m\n\u001b[32m----> \u001b[39m\u001b[32m1\u001b[39m Assistente[\u001b[33m'\u001b[39m\u001b[33mDiferência\u001b[39m\u001b[33m'\u001b[39m] = (\u001b[43mAssistente\u001b[49m\u001b[43m[\u001b[49m\u001b[33;43m'\u001b[39;49m\u001b[33;43mData da matrícula\u001b[39;49m\u001b[33;43m'\u001b[39;49m\u001b[43m]\u001b[49m\u001b[43m \u001b[49m\u001b[43m-\u001b[49m\u001b[43m \u001b[49m\u001b[43mAssistente\u001b[49m\u001b[43m[\u001b[49m\u001b[33;43m'\u001b[39;49m\u001b[33;43mData de Inscrição\u001b[39;49m\u001b[33;43m'\u001b[39;49m\u001b[43m]\u001b[49m).dt.days\n",
      "\u001b[36mFile \u001b[39m\u001b[32m~/.local/lib/python3.12/site-packages/pandas/core/ops/common.py:76\u001b[39m, in \u001b[36m_unpack_zerodim_and_defer.<locals>.new_method\u001b[39m\u001b[34m(self, other)\u001b[39m\n\u001b[32m     72\u001b[39m             \u001b[38;5;28;01mreturn\u001b[39;00m \u001b[38;5;28mNotImplemented\u001b[39m\n\u001b[32m     74\u001b[39m other = item_from_zerodim(other)\n\u001b[32m---> \u001b[39m\u001b[32m76\u001b[39m \u001b[38;5;28;01mreturn\u001b[39;00m \u001b[43mmethod\u001b[49m\u001b[43m(\u001b[49m\u001b[38;5;28;43mself\u001b[39;49m\u001b[43m,\u001b[49m\u001b[43m \u001b[49m\u001b[43mother\u001b[49m\u001b[43m)\u001b[49m\n",
      "\u001b[36mFile \u001b[39m\u001b[32m~/.local/lib/python3.12/site-packages/pandas/core/arraylike.py:194\u001b[39m, in \u001b[36mOpsMixin.__sub__\u001b[39m\u001b[34m(self, other)\u001b[39m\n\u001b[32m    192\u001b[39m \u001b[38;5;129m@unpack_zerodim_and_defer\u001b[39m(\u001b[33m\"\u001b[39m\u001b[33m__sub__\u001b[39m\u001b[33m\"\u001b[39m)\n\u001b[32m    193\u001b[39m \u001b[38;5;28;01mdef\u001b[39;00m\u001b[38;5;250m \u001b[39m\u001b[34m__sub__\u001b[39m(\u001b[38;5;28mself\u001b[39m, other):\n\u001b[32m--> \u001b[39m\u001b[32m194\u001b[39m     \u001b[38;5;28;01mreturn\u001b[39;00m \u001b[38;5;28;43mself\u001b[39;49m\u001b[43m.\u001b[49m\u001b[43m_arith_method\u001b[49m\u001b[43m(\u001b[49m\u001b[43mother\u001b[49m\u001b[43m,\u001b[49m\u001b[43m \u001b[49m\u001b[43moperator\u001b[49m\u001b[43m.\u001b[49m\u001b[43msub\u001b[49m\u001b[43m)\u001b[49m\n",
      "\u001b[36mFile \u001b[39m\u001b[32m~/.local/lib/python3.12/site-packages/pandas/core/series.py:6146\u001b[39m, in \u001b[36mSeries._arith_method\u001b[39m\u001b[34m(self, other, op)\u001b[39m\n\u001b[32m   6144\u001b[39m \u001b[38;5;28;01mdef\u001b[39;00m\u001b[38;5;250m \u001b[39m\u001b[34m_arith_method\u001b[39m(\u001b[38;5;28mself\u001b[39m, other, op):\n\u001b[32m   6145\u001b[39m     \u001b[38;5;28mself\u001b[39m, other = \u001b[38;5;28mself\u001b[39m._align_for_op(other)\n\u001b[32m-> \u001b[39m\u001b[32m6146\u001b[39m     \u001b[38;5;28;01mreturn\u001b[39;00m \u001b[43mbase\u001b[49m\u001b[43m.\u001b[49m\u001b[43mIndexOpsMixin\u001b[49m\u001b[43m.\u001b[49m\u001b[43m_arith_method\u001b[49m\u001b[43m(\u001b[49m\u001b[38;5;28;43mself\u001b[39;49m\u001b[43m,\u001b[49m\u001b[43m \u001b[49m\u001b[43mother\u001b[49m\u001b[43m,\u001b[49m\u001b[43m \u001b[49m\u001b[43mop\u001b[49m\u001b[43m)\u001b[49m\n",
      "\u001b[36mFile \u001b[39m\u001b[32m~/.local/lib/python3.12/site-packages/pandas/core/base.py:1391\u001b[39m, in \u001b[36mIndexOpsMixin._arith_method\u001b[39m\u001b[34m(self, other, op)\u001b[39m\n\u001b[32m   1388\u001b[39m     rvalues = np.arange(rvalues.start, rvalues.stop, rvalues.step)\n\u001b[32m   1390\u001b[39m \u001b[38;5;28;01mwith\u001b[39;00m np.errstate(\u001b[38;5;28mall\u001b[39m=\u001b[33m\"\u001b[39m\u001b[33mignore\u001b[39m\u001b[33m\"\u001b[39m):\n\u001b[32m-> \u001b[39m\u001b[32m1391\u001b[39m     result = \u001b[43mops\u001b[49m\u001b[43m.\u001b[49m\u001b[43marithmetic_op\u001b[49m\u001b[43m(\u001b[49m\u001b[43mlvalues\u001b[49m\u001b[43m,\u001b[49m\u001b[43m \u001b[49m\u001b[43mrvalues\u001b[49m\u001b[43m,\u001b[49m\u001b[43m \u001b[49m\u001b[43mop\u001b[49m\u001b[43m)\u001b[49m\n\u001b[32m   1393\u001b[39m \u001b[38;5;28;01mreturn\u001b[39;00m \u001b[38;5;28mself\u001b[39m._construct_result(result, name=res_name)\n",
      "\u001b[36mFile \u001b[39m\u001b[32m~/.local/lib/python3.12/site-packages/pandas/core/ops/array_ops.py:283\u001b[39m, in \u001b[36marithmetic_op\u001b[39m\u001b[34m(left, right, op)\u001b[39m\n\u001b[32m    279\u001b[39m     _bool_arith_check(op, left, right)  \u001b[38;5;66;03m# type: ignore[arg-type]\u001b[39;00m\n\u001b[32m    281\u001b[39m     \u001b[38;5;66;03m# error: Argument 1 to \"_na_arithmetic_op\" has incompatible type\u001b[39;00m\n\u001b[32m    282\u001b[39m     \u001b[38;5;66;03m# \"Union[ExtensionArray, ndarray[Any, Any]]\"; expected \"ndarray[Any, Any]\"\u001b[39;00m\n\u001b[32m--> \u001b[39m\u001b[32m283\u001b[39m     res_values = \u001b[43m_na_arithmetic_op\u001b[49m\u001b[43m(\u001b[49m\u001b[43mleft\u001b[49m\u001b[43m,\u001b[49m\u001b[43m \u001b[49m\u001b[43mright\u001b[49m\u001b[43m,\u001b[49m\u001b[43m \u001b[49m\u001b[43mop\u001b[49m\u001b[43m)\u001b[49m  \u001b[38;5;66;03m# type: ignore[arg-type]\u001b[39;00m\n\u001b[32m    285\u001b[39m \u001b[38;5;28;01mreturn\u001b[39;00m res_values\n",
      "\u001b[36mFile \u001b[39m\u001b[32m~/.local/lib/python3.12/site-packages/pandas/core/ops/array_ops.py:227\u001b[39m, in \u001b[36m_na_arithmetic_op\u001b[39m\u001b[34m(left, right, op, is_cmp)\u001b[39m\n\u001b[32m    219\u001b[39m \u001b[38;5;28;01mexcept\u001b[39;00m \u001b[38;5;167;01mTypeError\u001b[39;00m:\n\u001b[32m    220\u001b[39m     \u001b[38;5;28;01mif\u001b[39;00m \u001b[38;5;129;01mnot\u001b[39;00m is_cmp \u001b[38;5;129;01mand\u001b[39;00m (\n\u001b[32m    221\u001b[39m         left.dtype == \u001b[38;5;28mobject\u001b[39m \u001b[38;5;129;01mor\u001b[39;00m \u001b[38;5;28mgetattr\u001b[39m(right, \u001b[33m\"\u001b[39m\u001b[33mdtype\u001b[39m\u001b[33m\"\u001b[39m, \u001b[38;5;28;01mNone\u001b[39;00m) == \u001b[38;5;28mobject\u001b[39m\n\u001b[32m    222\u001b[39m     ):\n\u001b[32m   (...)\u001b[39m\u001b[32m    225\u001b[39m         \u001b[38;5;66;03m# Don't do this for comparisons, as that will handle complex numbers\u001b[39;00m\n\u001b[32m    226\u001b[39m         \u001b[38;5;66;03m#  incorrectly, see GH#32047\u001b[39;00m\n\u001b[32m--> \u001b[39m\u001b[32m227\u001b[39m         result = \u001b[43m_masked_arith_op\u001b[49m\u001b[43m(\u001b[49m\u001b[43mleft\u001b[49m\u001b[43m,\u001b[49m\u001b[43m \u001b[49m\u001b[43mright\u001b[49m\u001b[43m,\u001b[49m\u001b[43m \u001b[49m\u001b[43mop\u001b[49m\u001b[43m)\u001b[49m\n\u001b[32m    228\u001b[39m     \u001b[38;5;28;01melse\u001b[39;00m:\n\u001b[32m    229\u001b[39m         \u001b[38;5;28;01mraise\u001b[39;00m\n",
      "\u001b[36mFile \u001b[39m\u001b[32m~/.local/lib/python3.12/site-packages/pandas/core/ops/array_ops.py:163\u001b[39m, in \u001b[36m_masked_arith_op\u001b[39m\u001b[34m(x, y, op)\u001b[39m\n\u001b[32m    161\u001b[39m     \u001b[38;5;66;03m# See GH#5284, GH#5035, GH#19448 for historical reference\u001b[39;00m\n\u001b[32m    162\u001b[39m     \u001b[38;5;28;01mif\u001b[39;00m mask.any():\n\u001b[32m--> \u001b[39m\u001b[32m163\u001b[39m         result[mask] = \u001b[43mop\u001b[49m\u001b[43m(\u001b[49m\u001b[43mxrav\u001b[49m\u001b[43m[\u001b[49m\u001b[43mmask\u001b[49m\u001b[43m]\u001b[49m\u001b[43m,\u001b[49m\u001b[43m \u001b[49m\u001b[43myrav\u001b[49m\u001b[43m[\u001b[49m\u001b[43mmask\u001b[49m\u001b[43m]\u001b[49m\u001b[43m)\u001b[49m\n\u001b[32m    165\u001b[39m \u001b[38;5;28;01melse\u001b[39;00m:\n\u001b[32m    166\u001b[39m     \u001b[38;5;28;01mif\u001b[39;00m \u001b[38;5;129;01mnot\u001b[39;00m is_scalar(y):\n",
      "\u001b[31mTypeError\u001b[39m: unsupported operand type(s) for -: 'str' and 'str'"
     ]
    }
   ],
   "source": [
    "Assistente['Diferência'] = (Assistente['Data da matrícula'] - Assistente['Data de Inscrição']).dt.days"
   ]
  },
  {
   "cell_type": "code",
   "execution_count": null,
   "id": "095ca208",
   "metadata": {},
   "outputs": [],
   "source": []
  }
 ],
 "metadata": {
  "kernelspec": {
   "display_name": "Python 3",
   "language": "python",
   "name": "python3"
  },
  "language_info": {
   "codemirror_mode": {
    "name": "ipython",
    "version": 3
   },
   "file_extension": ".py",
   "mimetype": "text/x-python",
   "name": "python",
   "nbconvert_exporter": "python",
   "pygments_lexer": "ipython3",
   "version": "3.12.1"
  }
 },
 "nbformat": 4,
 "nbformat_minor": 5
}
