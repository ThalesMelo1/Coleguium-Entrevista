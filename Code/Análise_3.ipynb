{
 "cells": [
  {
   "cell_type": "code",
   "execution_count": 38,
   "id": "7042cb45",
   "metadata": {},
   "outputs": [],
   "source": [
    "import pandas as pd\n",
    "import numpy as np\n",
    "import matplotlib.pyplot as plt"
   ]
  },
  {
   "cell_type": "code",
   "execution_count": 39,
   "id": "1df27266",
   "metadata": {},
   "outputs": [],
   "source": [
    "novaMatrícula = pd.read_csv('/workspaces/Coleguium-Entrevista/Data/Tratados/Nova_Matrícula_Separada.csv')\n",
    "rematrícula = pd.read_csv('/workspaces/Coleguium-Entrevista/Data/Tratados/Rematrícula_Separada.csv')"
   ]
  },
  {
   "cell_type": "code",
   "execution_count": 40,
   "id": "3e2e9e07",
   "metadata": {},
   "outputs": [],
   "source": [
    "novaMatrícula['Bolsa'] = novaMatrícula['Bolsa (%)'].str.rstrip('%').str.replace(',', '.').astype(float)\n",
    "rematrícula['Bolsa'] = rematrícula['Bolsa (%)'].str.rstrip('%').str.replace(',', '.').astype(float)"
   ]
  },
  {
   "cell_type": "code",
   "execution_count": 41,
   "id": "0b10d2e0",
   "metadata": {},
   "outputs": [
    {
     "data": {
      "text/html": [
       "<div>\n",
       "<style scoped>\n",
       "    .dataframe tbody tr th:only-of-type {\n",
       "        vertical-align: middle;\n",
       "    }\n",
       "\n",
       "    .dataframe tbody tr th {\n",
       "        vertical-align: top;\n",
       "    }\n",
       "\n",
       "    .dataframe thead th {\n",
       "        text-align: right;\n",
       "    }\n",
       "</style>\n",
       "<table border=\"1\" class=\"dataframe\">\n",
       "  <thead>\n",
       "    <tr style=\"text-align: right;\">\n",
       "      <th></th>\n",
       "      <th>Código Candidato</th>\n",
       "      <th>Data de nascimento</th>\n",
       "      <th>Série</th>\n",
       "      <th>Unidade</th>\n",
       "      <th>Data de Inscrição</th>\n",
       "      <th>Data da matrícula</th>\n",
       "      <th>Tipo</th>\n",
       "      <th>Bolsa (%)</th>\n",
       "      <th>Real Anuidade</th>\n",
       "      <th>Diferença</th>\n",
       "      <th>Bolsa</th>\n",
       "    </tr>\n",
       "  </thead>\n",
       "  <tbody>\n",
       "    <tr>\n",
       "      <th>0</th>\n",
       "      <td>CL0002</td>\n",
       "      <td>21/1/2021</td>\n",
       "      <td>Infantil 4</td>\n",
       "      <td>Conceição do Mato Dentro</td>\n",
       "      <td>2024-12-19</td>\n",
       "      <td>2024-12-20</td>\n",
       "      <td>Matrícula nova</td>\n",
       "      <td>50,00%</td>\n",
       "      <td>15.176</td>\n",
       "      <td>1</td>\n",
       "      <td>50.0</td>\n",
       "    </tr>\n",
       "    <tr>\n",
       "      <th>1</th>\n",
       "      <td>CL0002</td>\n",
       "      <td>21/01/2021</td>\n",
       "      <td>Infantil 4</td>\n",
       "      <td>Conceição do Mato Dentro</td>\n",
       "      <td>2024-12-19</td>\n",
       "      <td>2024-12-20</td>\n",
       "      <td>Matrícula nova</td>\n",
       "      <td>50,00%</td>\n",
       "      <td>15.176</td>\n",
       "      <td>1</td>\n",
       "      <td>50.0</td>\n",
       "    </tr>\n",
       "    <tr>\n",
       "      <th>2</th>\n",
       "      <td>CL0019</td>\n",
       "      <td>23/01/2022</td>\n",
       "      <td>Infantil 3</td>\n",
       "      <td>Castelo</td>\n",
       "      <td>2025-01-21</td>\n",
       "      <td>2025-01-27</td>\n",
       "      <td>Matrícula nova</td>\n",
       "      <td>66,60%</td>\n",
       "      <td>6.672</td>\n",
       "      <td>6</td>\n",
       "      <td>66.6</td>\n",
       "    </tr>\n",
       "    <tr>\n",
       "      <th>3</th>\n",
       "      <td>CL0019</td>\n",
       "      <td>23/01/2022</td>\n",
       "      <td>Infantil 3</td>\n",
       "      <td>Castelo</td>\n",
       "      <td>2025-01-21</td>\n",
       "      <td>2025-01-27</td>\n",
       "      <td>Matrícula nova</td>\n",
       "      <td>66,60%</td>\n",
       "      <td>6.672</td>\n",
       "      <td>6</td>\n",
       "      <td>66.6</td>\n",
       "    </tr>\n",
       "    <tr>\n",
       "      <th>4</th>\n",
       "      <td>CL0047</td>\n",
       "      <td>19/04/2015</td>\n",
       "      <td>5º ano</td>\n",
       "      <td>Conceição do Mato Dentro</td>\n",
       "      <td>2024-12-02</td>\n",
       "      <td>2024-12-02</td>\n",
       "      <td>Matrícula nova</td>\n",
       "      <td>100,00%</td>\n",
       "      <td>11.471</td>\n",
       "      <td>0</td>\n",
       "      <td>100.0</td>\n",
       "    </tr>\n",
       "    <tr>\n",
       "      <th>...</th>\n",
       "      <td>...</td>\n",
       "      <td>...</td>\n",
       "      <td>...</td>\n",
       "      <td>...</td>\n",
       "      <td>...</td>\n",
       "      <td>...</td>\n",
       "      <td>...</td>\n",
       "      <td>...</td>\n",
       "      <td>...</td>\n",
       "      <td>...</td>\n",
       "      <td>...</td>\n",
       "    </tr>\n",
       "    <tr>\n",
       "      <th>3416</th>\n",
       "      <td>CL9979</td>\n",
       "      <td>09/07/2014</td>\n",
       "      <td>5º ano bilíngue</td>\n",
       "      <td>Lagoa Santa</td>\n",
       "      <td>2024-08-16</td>\n",
       "      <td>2024-12-20</td>\n",
       "      <td>Matrícula nova</td>\n",
       "      <td>43,00%</td>\n",
       "      <td>14.421</td>\n",
       "      <td>126</td>\n",
       "      <td>43.0</td>\n",
       "    </tr>\n",
       "    <tr>\n",
       "      <th>3417</th>\n",
       "      <td>CL9987</td>\n",
       "      <td>11/04/2017</td>\n",
       "      <td>2º ano</td>\n",
       "      <td>Nova Suíça</td>\n",
       "      <td>2024-10-14</td>\n",
       "      <td>2024-10-24</td>\n",
       "      <td>Matrícula nova</td>\n",
       "      <td>100,00%</td>\n",
       "      <td>0.000</td>\n",
       "      <td>10</td>\n",
       "      <td>100.0</td>\n",
       "    </tr>\n",
       "    <tr>\n",
       "      <th>3418</th>\n",
       "      <td>CL9987</td>\n",
       "      <td>11/4/2017</td>\n",
       "      <td>2º ano</td>\n",
       "      <td>Nova Suíça</td>\n",
       "      <td>2024-10-14</td>\n",
       "      <td>2024-10-24</td>\n",
       "      <td>Matrícula nova</td>\n",
       "      <td>100,00%</td>\n",
       "      <td>0.000</td>\n",
       "      <td>10</td>\n",
       "      <td>100.0</td>\n",
       "    </tr>\n",
       "    <tr>\n",
       "      <th>3419</th>\n",
       "      <td>CL9991</td>\n",
       "      <td>18/05/2017</td>\n",
       "      <td>3º ano</td>\n",
       "      <td>Carlos Prates</td>\n",
       "      <td>2024-11-13</td>\n",
       "      <td>2024-11-25</td>\n",
       "      <td>Matrícula nova</td>\n",
       "      <td>50,00%</td>\n",
       "      <td>12.530</td>\n",
       "      <td>12</td>\n",
       "      <td>50.0</td>\n",
       "    </tr>\n",
       "    <tr>\n",
       "      <th>3420</th>\n",
       "      <td>CL9991</td>\n",
       "      <td>18/5/2017</td>\n",
       "      <td>3º ano</td>\n",
       "      <td>Carlos Prates</td>\n",
       "      <td>2024-11-13</td>\n",
       "      <td>2024-11-25</td>\n",
       "      <td>Matrícula nova</td>\n",
       "      <td>50,00%</td>\n",
       "      <td>12.530</td>\n",
       "      <td>12</td>\n",
       "      <td>50.0</td>\n",
       "    </tr>\n",
       "  </tbody>\n",
       "</table>\n",
       "<p>3421 rows × 11 columns</p>\n",
       "</div>"
      ],
      "text/plain": [
       "     Código Candidato Data de nascimento            Série  \\\n",
       "0              CL0002          21/1/2021       Infantil 4   \n",
       "1              CL0002         21/01/2021       Infantil 4   \n",
       "2              CL0019         23/01/2022       Infantil 3   \n",
       "3              CL0019         23/01/2022       Infantil 3   \n",
       "4              CL0047         19/04/2015           5º ano   \n",
       "...               ...                ...              ...   \n",
       "3416           CL9979         09/07/2014  5º ano bilíngue   \n",
       "3417           CL9987         11/04/2017           2º ano   \n",
       "3418           CL9987          11/4/2017           2º ano   \n",
       "3419           CL9991         18/05/2017           3º ano   \n",
       "3420           CL9991          18/5/2017           3º ano   \n",
       "\n",
       "                       Unidade Data de Inscrição Data da matrícula  \\\n",
       "0     Conceição do Mato Dentro        2024-12-19        2024-12-20   \n",
       "1     Conceição do Mato Dentro        2024-12-19        2024-12-20   \n",
       "2                      Castelo        2025-01-21        2025-01-27   \n",
       "3                      Castelo        2025-01-21        2025-01-27   \n",
       "4     Conceição do Mato Dentro        2024-12-02        2024-12-02   \n",
       "...                        ...               ...               ...   \n",
       "3416               Lagoa Santa        2024-08-16        2024-12-20   \n",
       "3417                Nova Suíça        2024-10-14        2024-10-24   \n",
       "3418                Nova Suíça        2024-10-14        2024-10-24   \n",
       "3419             Carlos Prates        2024-11-13        2024-11-25   \n",
       "3420             Carlos Prates        2024-11-13        2024-11-25   \n",
       "\n",
       "                Tipo Bolsa (%)  Real Anuidade  Diferença  Bolsa  \n",
       "0     Matrícula nova    50,00%         15.176          1   50.0  \n",
       "1     Matrícula nova    50,00%         15.176          1   50.0  \n",
       "2     Matrícula nova    66,60%          6.672          6   66.6  \n",
       "3     Matrícula nova    66,60%          6.672          6   66.6  \n",
       "4     Matrícula nova   100,00%         11.471          0  100.0  \n",
       "...              ...       ...            ...        ...    ...  \n",
       "3416  Matrícula nova    43,00%         14.421        126   43.0  \n",
       "3417  Matrícula nova   100,00%          0.000         10  100.0  \n",
       "3418  Matrícula nova   100,00%          0.000         10  100.0  \n",
       "3419  Matrícula nova    50,00%         12.530         12   50.0  \n",
       "3420  Matrícula nova    50,00%         12.530         12   50.0  \n",
       "\n",
       "[3421 rows x 11 columns]"
      ]
     },
     "execution_count": 41,
     "metadata": {},
     "output_type": "execute_result"
    }
   ],
   "source": [
    "novaMatrícula"
   ]
  },
  {
   "cell_type": "code",
   "execution_count": 42,
   "id": "43b142a3",
   "metadata": {},
   "outputs": [
    {
     "data": {
      "text/plain": [
       "{'Alípio de Melo',\n",
       " 'Carajás',\n",
       " 'Carlos Prates',\n",
       " 'Castelo',\n",
       " 'Castelo Manacás',\n",
       " 'Conceição do Mato Dentro',\n",
       " 'Gutierrez',\n",
       " 'Jaraguá',\n",
       " 'Jardim Canadá',\n",
       " 'Lagoa Santa',\n",
       " 'Mais Belvedere',\n",
       " 'Mais Buritis',\n",
       " 'Mais Cidade Nova',\n",
       " 'Mais Pampulha',\n",
       " 'Nova Suíça',\n",
       " 'Ouro Preto',\n",
       " 'Santa Amélia'}"
      ]
     },
     "execution_count": 42,
     "metadata": {},
     "output_type": "execute_result"
    }
   ],
   "source": [
    "escolas1 = set(novaMatrícula['Unidade'].unique())\n",
    "escolas1"
   ]
  },
  {
   "cell_type": "code",
   "execution_count": 43,
   "id": "8fd82c3e",
   "metadata": {},
   "outputs": [
    {
     "data": {
      "text/plain": [
       "{'Alípio de Melo',\n",
       " 'Carajás',\n",
       " 'Carlos Prates',\n",
       " 'Castelo',\n",
       " 'Castelo Manacás',\n",
       " 'Conceição do Mato Dentro',\n",
       " 'Gutierrez',\n",
       " 'Jaraguá',\n",
       " 'Jardim Canadá',\n",
       " 'Lagoa Santa',\n",
       " 'Mais Belvedere',\n",
       " 'Mais Buritis',\n",
       " 'Mais Cidade Nova',\n",
       " 'Mais Pampulha',\n",
       " 'Nova Suíça',\n",
       " 'Ouro Preto',\n",
       " 'Ouro Preto Integral',\n",
       " 'Santa Amélia'}"
      ]
     },
     "execution_count": 43,
     "metadata": {},
     "output_type": "execute_result"
    }
   ],
   "source": [
    "escolas2 = set(rematrícula['Unidade'].unique())\n",
    "escolas2"
   ]
  },
  {
   "cell_type": "markdown",
   "id": "58ee1df2",
   "metadata": {},
   "source": [
    "### Demonstrando quais unidades apresentam as maiores concessões de descontos"
   ]
  },
  {
   "cell_type": "markdown",
   "id": "cca83f00",
   "metadata": {},
   "source": [
    "##### Unidades das novas matrículas"
   ]
  },
  {
   "cell_type": "code",
   "execution_count": 51,
   "id": "37445446",
   "metadata": {},
   "outputs": [
    {
     "name": "stdout",
     "output_type": "stream",
     "text": [
      "O maior desconto oferecido da unidade Castelo é de: 100.0 por cento.\n",
      "O maior desconto oferecido da unidade Jaraguá é de: 64.0 por cento.\n",
      "O maior desconto oferecido da unidade Gutierrez é de: 70.0 por cento.\n",
      "O maior desconto oferecido da unidade Carajás é de: 100.0 por cento.\n",
      "O maior desconto oferecido da unidade Mais Pampulha é de: 100.0 por cento.\n",
      "O maior desconto oferecido da unidade Mais Belvedere é de: 80.0 por cento.\n",
      "O maior desconto oferecido da unidade Mais Buritis é de: 74.0 por cento.\n",
      "O maior desconto oferecido da unidade Castelo Manacás é de: 100.0 por cento.\n",
      "O maior desconto oferecido da unidade Nova Suíça é de: 100.0 por cento.\n",
      "O maior desconto oferecido da unidade Conceição do Mato Dentro é de: 100.0 por cento.\n",
      "O maior desconto oferecido da unidade Carlos Prates é de: 100.0 por cento.\n",
      "O maior desconto oferecido da unidade Mais Cidade Nova é de: 100.0 por cento.\n",
      "O maior desconto oferecido da unidade Jardim Canadá é de: 70.0 por cento.\n",
      "O maior desconto oferecido da unidade Alípio de Melo é de: 100.0 por cento.\n",
      "O maior desconto oferecido da unidade Ouro Preto é de: 100.0 por cento.\n",
      "O maior desconto oferecido da unidade Santa Amélia é de: 100.0 por cento.\n",
      "O maior desconto oferecido da unidade Lagoa Santa é de: 100.0 por cento.\n"
     ]
    }
   ],
   "source": [
    "vetor = []\n",
    "for escola in escolas1:\n",
    "    pe = novaMatrícula[novaMatrícula['Unidade'] == escola]['Bolsa'].max()\n",
    "    if(pe == 100):\n",
    "        vetor.append(escola)\n",
    "    print(\"O maior desconto oferecido da unidade\", escola, \"é de:\", pe, \"por cento.\")"
   ]
  },
  {
   "cell_type": "markdown",
   "id": "101b9463",
   "metadata": {},
   "source": [
    "Lista das unidades que mais dão descontos"
   ]
  },
  {
   "cell_type": "code",
   "execution_count": 52,
   "id": "1994a73b",
   "metadata": {},
   "outputs": [
    {
     "name": "stdout",
     "output_type": "stream",
     "text": [
      "Castelo\n",
      "Carajás\n",
      "Mais Pampulha\n",
      "Castelo Manacás\n",
      "Nova Suíça\n",
      "Conceição do Mato Dentro\n",
      "Carlos Prates\n",
      "Mais Cidade Nova\n",
      "Alípio de Melo\n",
      "Ouro Preto\n",
      "Santa Amélia\n",
      "Lagoa Santa\n"
     ]
    }
   ],
   "source": [
    "i = 0\n",
    "while i < len(vetor):\n",
    "    print(vetor[i])\n",
    "    i+=1"
   ]
  },
  {
   "cell_type": "markdown",
   "id": "8723a6a2",
   "metadata": {},
   "source": [
    "##### Unidades das rematrículas"
   ]
  },
  {
   "cell_type": "code",
   "execution_count": 53,
   "id": "e91bc1fd",
   "metadata": {},
   "outputs": [
    {
     "name": "stdout",
     "output_type": "stream",
     "text": [
      "O maior desconto oferecido da unidade  Castelo é:  100.0 por cento.\n",
      "O maior desconto oferecido da unidade  Jaraguá é:  100.0 por cento.\n",
      "O maior desconto oferecido da unidade  Gutierrez é:  100.0 por cento.\n",
      "O maior desconto oferecido da unidade  Carajás é:  100.0 por cento.\n",
      "O maior desconto oferecido da unidade  Mais Pampulha é:  100.0 por cento.\n",
      "O maior desconto oferecido da unidade  Mais Belvedere é:  100.0 por cento.\n",
      "O maior desconto oferecido da unidade  Ouro Preto Integral é:  100.0 por cento.\n",
      "O maior desconto oferecido da unidade  Lagoa Santa é:  100.0 por cento.\n",
      "O maior desconto oferecido da unidade  Nova Suíça é:  100.0 por cento.\n",
      "O maior desconto oferecido da unidade  Mais Buritis é:  100.0 por cento.\n",
      "O maior desconto oferecido da unidade  Castelo Manacás é:  100.0 por cento.\n",
      "O maior desconto oferecido da unidade  Carlos Prates é:  100.0 por cento.\n",
      "O maior desconto oferecido da unidade  Mais Cidade Nova é:  100.0 por cento.\n",
      "O maior desconto oferecido da unidade  Jardim Canadá é:  100.0 por cento.\n",
      "O maior desconto oferecido da unidade  Alípio de Melo é:  100.0 por cento.\n",
      "O maior desconto oferecido da unidade  Ouro Preto é:  100.0 por cento.\n",
      "O maior desconto oferecido da unidade  Santa Amélia é:  100.0 por cento.\n",
      "O maior desconto oferecido da unidade  Conceição do Mato Dentro é:  100.0 por cento.\n"
     ]
    }
   ],
   "source": [
    "for escola in escolas2:\n",
    "    pe = rematrícula[rematrícula['Unidade'] == escola]['Bolsa'].max()\n",
    "    print(\"O maior desconto oferecido da unidade \", escola, \"é: \", pe, \"por cento.\")"
   ]
  },
  {
   "cell_type": "markdown",
   "id": "5d1e0d57",
   "metadata": {},
   "source": [
    "Na rematrícula todas as unidades dão descontos que podem ir até 100%."
   ]
  },
  {
   "cell_type": "markdown",
   "id": "bfcfc1c9",
   "metadata": {},
   "source": [
    "### Demonstrando a média de desconto das unidades"
   ]
  },
  {
   "cell_type": "code",
   "execution_count": null,
   "id": "f50ad653",
   "metadata": {},
   "outputs": [],
   "source": []
  }
 ],
 "metadata": {
  "kernelspec": {
   "display_name": "Python 3",
   "language": "python",
   "name": "python3"
  },
  "language_info": {
   "codemirror_mode": {
    "name": "ipython",
    "version": 3
   },
   "file_extension": ".py",
   "mimetype": "text/x-python",
   "name": "python",
   "nbconvert_exporter": "python",
   "pygments_lexer": "ipython3",
   "version": "3.12.1"
  }
 },
 "nbformat": 4,
 "nbformat_minor": 5
}
