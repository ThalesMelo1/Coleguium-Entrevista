{
 "cells": [
  {
   "cell_type": "code",
   "execution_count": null,
   "id": "7042cb45",
   "metadata": {},
   "outputs": [],
   "source": [
    "import pandas as pd\n",
    "import numpy as np\n",
    "import matplotlib.pyplot as plt"
   ]
  },
  {
   "cell_type": "code",
   "execution_count": null,
   "id": "1df27266",
   "metadata": {},
   "outputs": [],
   "source": [
    "novaMatrícula = pd.read_csv('/workspaces/Coleguium-Entrevista/Data/Tratados/Nova_Matrícula_Separada.csv')\n",
    "rematrícula = pd.read_csv('/workspaces/Coleguium-Entrevista/Data/Tratados/Rematrícula_Separada.csv')"
   ]
  },
  {
   "cell_type": "code",
   "execution_count": null,
   "id": "3e2e9e07",
   "metadata": {},
   "outputs": [],
   "source": [
    "novaMatrícula['Bolsa'] = novaMatrícula['Bolsa (%)'].str.rstrip('%').str.replace(',', '.').astype(float)\n",
    "rematrícula['Bolsa'] = rematrícula['Bolsa (%)'].str.rstrip('%').str.replace(',', '.').astype(float)"
   ]
  },
  {
   "cell_type": "code",
   "execution_count": null,
   "id": "0b10d2e0",
   "metadata": {},
   "outputs": [],
   "source": [
    "novaMatrícula"
   ]
  },
  {
   "cell_type": "code",
   "execution_count": null,
   "id": "43b142a3",
   "metadata": {},
   "outputs": [],
   "source": [
    "escolas1 = set(novaMatrícula['Unidade'].unique())\n",
    "escolas1"
   ]
  },
  {
   "cell_type": "code",
   "execution_count": null,
   "id": "8fd82c3e",
   "metadata": {},
   "outputs": [],
   "source": [
    "escolas2 = set(rematrícula['Unidade'].unique())\n",
    "escolas2"
   ]
  },
  {
   "cell_type": "markdown",
   "id": "58ee1df2",
   "metadata": {},
   "source": [
    "### Demonstrando quais unidades apresentam as maiores concessões de descontos"
   ]
  },
  {
   "cell_type": "markdown",
   "id": "cca83f00",
   "metadata": {},
   "source": [
    "##### Unidades das novas matrículas"
   ]
  },
  {
   "cell_type": "code",
   "execution_count": null,
   "id": "37445446",
   "metadata": {},
   "outputs": [],
   "source": [
    "vetor = []\n",
    "for escola in escolas1:\n",
    "    pe = novaMatrícula[novaMatrícula['Unidade'] == escola]['Bolsa'].max()\n",
    "    if(pe == 100):\n",
    "        vetor.append(escola)\n",
    "    print(\"O maior desconto oferecido da unidade\", escola, \"é de:\", pe, \"por cento.\")"
   ]
  },
  {
   "cell_type": "markdown",
   "id": "101b9463",
   "metadata": {},
   "source": [
    "Lista das unidades que mais dão descontos"
   ]
  },
  {
   "cell_type": "code",
   "execution_count": null,
   "id": "1994a73b",
   "metadata": {},
   "outputs": [],
   "source": [
    "i = 0\n",
    "while i < len(vetor):\n",
    "    print(vetor[i])\n",
    "    i+=1"
   ]
  },
  {
   "cell_type": "markdown",
   "id": "8723a6a2",
   "metadata": {},
   "source": [
    "##### Unidades das rematrículas"
   ]
  },
  {
   "cell_type": "code",
   "execution_count": null,
   "id": "e91bc1fd",
   "metadata": {},
   "outputs": [],
   "source": [
    "for escola in escolas2:\n",
    "    pe = rematrícula[rematrícula['Unidade'] == escola]['Bolsa'].max()\n",
    "    print(\"O maior desconto oferecido da unidade \", escola, \"é: \", pe, \"por cento.\")"
   ]
  },
  {
   "cell_type": "markdown",
   "id": "5d1e0d57",
   "metadata": {},
   "source": [
    "Na rematrícula todas as unidades dão descontos que podem ir até 100%."
   ]
  },
  {
   "cell_type": "markdown",
   "id": "bfcfc1c9",
   "metadata": {},
   "source": [
    "### Demonstrando a média de desconto das unidades"
   ]
  },
  {
   "cell_type": "code",
   "execution_count": null,
   "id": "f50ad653",
   "metadata": {},
   "outputs": [],
   "source": [
    "médiaRematrícula = rematrícula.groupby('Unidade').agg(\n",
    "    Soma = ('Bolsa', 'sum'),\n",
    "    Contagem = ('Bolsa' , 'count')\n",
    ")"
   ]
  },
  {
   "cell_type": "code",
   "execution_count": null,
   "id": "354b842c",
   "metadata": {},
   "outputs": [],
   "source": [
    "médiaRematrícula['média'] = round(médiaRematrícula['Soma']/médiaRematrícula['Contagem'])\n",
    "médiaRematrícula"
   ]
  },
  {
   "cell_type": "code",
   "execution_count": null,
   "id": "a7183066",
   "metadata": {},
   "outputs": [],
   "source": [
    "médiaNovaMatrícula = novaMatrícula.groupby('Unidade').agg(\n",
    "    Soma = ('Bolsa', 'sum'),\n",
    "    Contagem = ('Bolsa' , 'count')\n",
    ")"
   ]
  },
  {
   "cell_type": "code",
   "execution_count": null,
   "id": "785728fe",
   "metadata": {},
   "outputs": [],
   "source": [
    "médiaNovaMatrícula['média'] = round(médiaNovaMatrícula['Soma']/médiaNovaMatrícula['Contagem'])\n",
    "médiaNovaMatrícula"
   ]
  },
  {
   "cell_type": "code",
   "execution_count": null,
   "id": "13550764",
   "metadata": {},
   "outputs": [],
   "source": [
    "plot1 = novaMatrícula.merge(médiaNovaMatrícula, on = 'Unidade', how = 'left')\n",
    "plot2 = rematrícula.merge(médiaRematrícula, on = 'Unidade', how = 'left')"
   ]
  },
  {
   "cell_type": "code",
   "execution_count": null,
   "id": "e7e4e10e",
   "metadata": {},
   "outputs": [],
   "source": [
    "plt.bar((plot1['Unidade']), plot1['média'], color = 'red')\n",
    "plt.title('Média de Descontos das Novas Matrículas')\n",
    "plt.xticks(rotation=90)"
   ]
  },
  {
   "cell_type": "code",
   "execution_count": 27,
   "id": "c750645d",
   "metadata": {},
   "outputs": [
    {
     "data": {
      "text/plain": [
       "([0, 1, 2, 3, 4, 5, 6, 7, 8, 9, 10, 11, 12, 13, 14, 15, 16, 17],\n",
       " [Text(0, 0, 'Conceição do Mato Dentro'),\n",
       "  Text(1, 0, 'Castelo'),\n",
       "  Text(2, 0, 'Castelo Manacás'),\n",
       "  Text(3, 0, 'Lagoa Santa'),\n",
       "  Text(4, 0, 'Gutierrez'),\n",
       "  Text(5, 0, 'Jaraguá'),\n",
       "  Text(6, 0, 'Alípio de Melo'),\n",
       "  Text(7, 0, 'Carlos Prates'),\n",
       "  Text(8, 0, 'Mais Buritis'),\n",
       "  Text(9, 0, 'Mais Cidade Nova'),\n",
       "  Text(10, 0, 'Nova Suíça'),\n",
       "  Text(11, 0, 'Santa Amélia'),\n",
       "  Text(12, 0, 'Mais Pampulha'),\n",
       "  Text(13, 0, 'Carajás'),\n",
       "  Text(14, 0, 'Jardim Canadá'),\n",
       "  Text(15, 0, 'Mais Belvedere'),\n",
       "  Text(16, 0, 'Ouro Preto'),\n",
       "  Text(17, 0, 'Ouro Preto Integral')])"
      ]
     },
     "execution_count": 27,
     "metadata": {},
     "output_type": "execute_result"
    },
    {
     "data": {
      "image/png": "[encoded data removed]",
      "text/plain": [
       "<Figure size 640x480 with 1 Axes>"
      ]
     },
     "metadata": {},
     "output_type": "display_data"
    }
   ],
   "source": [
    "plt.bar(plot1['Unidade'], plot1['média'], color='red', alpha=0.7, label='Nova Matrícula', width=0.8)\n",
    "\n",
    "plt.bar(plot2['Unidade'], plot2['média'], color='blue', alpha=0.5, label='Rematrícula', width=0.7)\n",
    "\n",
    "plt.legend()\n",
    "plt.xticks(rotation=90)"
   ]
  },
  {
   "cell_type": "code",
   "execution_count": null,
   "id": "56de8a3f",
   "metadata": {},
   "outputs": [],
   "source": []
  }
 ],
 "metadata": {
  "kernelspec": {
   "display_name": "Python 3",
   "language": "python",
   "name": "python3"
  },
  "language_info": {
   "codemirror_mode": {
    "name": "ipython",
    "version": 3
   },
   "file_extension": ".py",
   "mimetype": "text/x-python",
   "name": "python",
   "nbconvert_exporter": "python",
   "pygments_lexer": "ipython3",
   "version": "3.12.1"
  }
 },
 "nbformat": 4,
 "nbformat_minor": 5
}
