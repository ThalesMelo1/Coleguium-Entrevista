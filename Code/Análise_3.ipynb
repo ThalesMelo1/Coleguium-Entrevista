{
 "cells": [
  {
   "cell_type": "code",
   "execution_count": 2,
   "id": "7042cb45",
   "metadata": {},
   "outputs": [],
   "source": [
    "import pandas as pd\n",
    "import numpy as np\n",
    "import matplotlib.pyplot as plt"
   ]
  },
  {
   "cell_type": "code",
   "execution_count": 3,
   "id": "1df27266",
   "metadata": {},
   "outputs": [],
   "source": [
    "novaMatrícula = pd.read_csv('/workspaces/Coleguium-Entrevista/Data/Tratados/Nova_Matrícula_Separada.csv')\n",
    "rematrícula = pd.read_csv('/workspaces/Coleguium-Entrevista/Data/Tratados/Rematrícula_Separada.csv')"
   ]
  },
  {
   "cell_type": "code",
   "execution_count": 4,
   "id": "3e2e9e07",
   "metadata": {},
   "outputs": [],
   "source": [
    "novaMatrícula['Bolsa'] = novaMatrícula['Bolsa (%)'].str.rstrip('%').str.replace(',', '.').astype(float)\n",
    "rematrícula['Bolsa'] = rematrícula['Bolsa (%)'].str.rstrip('%').str.replace(',', '.').astype(float)"
   ]
  },
  {
   "cell_type": "code",
   "execution_count": 8,
   "id": "43b142a3",
   "metadata": {},
   "outputs": [
    {
     "data": {
      "text/plain": [
       "{'Alípio de Melo',\n",
       " 'Carajás',\n",
       " 'Carlos Prates',\n",
       " 'Castelo',\n",
       " 'Castelo Manacás',\n",
       " 'Conceição do Mato Dentro',\n",
       " 'Gutierrez',\n",
       " 'Jaraguá',\n",
       " 'Jardim Canadá',\n",
       " 'Lagoa Santa',\n",
       " 'Mais Belvedere',\n",
       " 'Mais Buritis',\n",
       " 'Mais Cidade Nova',\n",
       " 'Mais Pampulha',\n",
       " 'Nova Suíça',\n",
       " 'Ouro Preto',\n",
       " 'Santa Amélia'}"
      ]
     },
     "execution_count": 8,
     "metadata": {},
     "output_type": "execute_result"
    }
   ],
   "source": [
    "escolas1 = set(novaMatrícula['Unidade'].unique())\n",
    "escolas1"
   ]
  },
  {
   "cell_type": "code",
   "execution_count": 9,
   "id": "8fd82c3e",
   "metadata": {},
   "outputs": [
    {
     "data": {
      "text/plain": [
       "{'Alípio de Melo',\n",
       " 'Carajás',\n",
       " 'Carlos Prates',\n",
       " 'Castelo',\n",
       " 'Castelo Manacás',\n",
       " 'Conceição do Mato Dentro',\n",
       " 'Gutierrez',\n",
       " 'Jaraguá',\n",
       " 'Jardim Canadá',\n",
       " 'Lagoa Santa',\n",
       " 'Mais Belvedere',\n",
       " 'Mais Buritis',\n",
       " 'Mais Cidade Nova',\n",
       " 'Mais Pampulha',\n",
       " 'Nova Suíça',\n",
       " 'Ouro Preto',\n",
       " 'Ouro Preto Integral',\n",
       " 'Santa Amélia'}"
      ]
     },
     "execution_count": 9,
     "metadata": {},
     "output_type": "execute_result"
    }
   ],
   "source": [
    "escolas2 = set(rematrícula['Unidade'].unique())\n",
    "escolas2"
   ]
  },
  {
   "cell_type": "code",
   "execution_count": 14,
   "id": "03976380",
   "metadata": {},
   "outputs": [
    {
     "data": {
      "text/html": [
       "<div>\n",
       "<style scoped>\n",
       "    .dataframe tbody tr th:only-of-type {\n",
       "        vertical-align: middle;\n",
       "    }\n",
       "\n",
       "    .dataframe tbody tr th {\n",
       "        vertical-align: top;\n",
       "    }\n",
       "\n",
       "    .dataframe thead th {\n",
       "        text-align: right;\n",
       "    }\n",
       "</style>\n",
       "<table border=\"1\" class=\"dataframe\">\n",
       "  <thead>\n",
       "    <tr style=\"text-align: right;\">\n",
       "      <th></th>\n",
       "      <th>Unidades</th>\n",
       "    </tr>\n",
       "  </thead>\n",
       "  <tbody>\n",
       "    <tr>\n",
       "      <th>0</th>\n",
       "      <td>Carajás</td>\n",
       "    </tr>\n",
       "    <tr>\n",
       "      <th>1</th>\n",
       "      <td>Conceição do Mato Dentro</td>\n",
       "    </tr>\n",
       "    <tr>\n",
       "      <th>2</th>\n",
       "      <td>Ouro Preto Integral</td>\n",
       "    </tr>\n",
       "    <tr>\n",
       "      <th>3</th>\n",
       "      <td>Gutierrez</td>\n",
       "    </tr>\n",
       "    <tr>\n",
       "      <th>4</th>\n",
       "      <td>Santa Amélia</td>\n",
       "    </tr>\n",
       "    <tr>\n",
       "      <th>5</th>\n",
       "      <td>Nova Suíça</td>\n",
       "    </tr>\n",
       "    <tr>\n",
       "      <th>6</th>\n",
       "      <td>Castelo</td>\n",
       "    </tr>\n",
       "    <tr>\n",
       "      <th>7</th>\n",
       "      <td>Lagoa Santa</td>\n",
       "    </tr>\n",
       "    <tr>\n",
       "      <th>8</th>\n",
       "      <td>Mais Cidade Nova</td>\n",
       "    </tr>\n",
       "    <tr>\n",
       "      <th>9</th>\n",
       "      <td>Castelo Manacás</td>\n",
       "    </tr>\n",
       "    <tr>\n",
       "      <th>10</th>\n",
       "      <td>Jardim Canadá</td>\n",
       "    </tr>\n",
       "    <tr>\n",
       "      <th>11</th>\n",
       "      <td>Mais Pampulha</td>\n",
       "    </tr>\n",
       "    <tr>\n",
       "      <th>12</th>\n",
       "      <td>Mais Belvedere</td>\n",
       "    </tr>\n",
       "    <tr>\n",
       "      <th>13</th>\n",
       "      <td>Ouro Preto</td>\n",
       "    </tr>\n",
       "    <tr>\n",
       "      <th>14</th>\n",
       "      <td>Jaraguá</td>\n",
       "    </tr>\n",
       "    <tr>\n",
       "      <th>15</th>\n",
       "      <td>Mais Buritis</td>\n",
       "    </tr>\n",
       "    <tr>\n",
       "      <th>16</th>\n",
       "      <td>Alípio de Melo</td>\n",
       "    </tr>\n",
       "    <tr>\n",
       "      <th>17</th>\n",
       "      <td>Carlos Prates</td>\n",
       "    </tr>\n",
       "  </tbody>\n",
       "</table>\n",
       "</div>"
      ],
      "text/plain": [
       "                    Unidades\n",
       "0                    Carajás\n",
       "1   Conceição do Mato Dentro\n",
       "2        Ouro Preto Integral\n",
       "3                  Gutierrez\n",
       "4               Santa Amélia\n",
       "5                 Nova Suíça\n",
       "6                    Castelo\n",
       "7                Lagoa Santa\n",
       "8           Mais Cidade Nova\n",
       "9            Castelo Manacás\n",
       "10             Jardim Canadá\n",
       "11             Mais Pampulha\n",
       "12            Mais Belvedere\n",
       "13                Ouro Preto\n",
       "14                   Jaraguá\n",
       "15              Mais Buritis\n",
       "16            Alípio de Melo\n",
       "17             Carlos Prates"
      ]
     },
     "execution_count": 14,
     "metadata": {},
     "output_type": "execute_result"
    }
   ],
   "source": [
    "unidadesRematrícula = pd.DataFrame(list(escolas2), columns = ['Unidades'])\n",
    "unidadesRematrícula"
   ]
  },
  {
   "cell_type": "code",
   "execution_count": null,
   "id": "37445446",
   "metadata": {},
   "outputs": [],
   "source": []
  }
 ],
 "metadata": {
  "kernelspec": {
   "display_name": "Python 3",
   "language": "python",
   "name": "python3"
  },
  "language_info": {
   "codemirror_mode": {
    "name": "ipython",
    "version": 3
   },
   "file_extension": ".py",
   "mimetype": "text/x-python",
   "name": "python",
   "nbconvert_exporter": "python",
   "pygments_lexer": "ipython3",
   "version": "3.12.1"
  }
 },
 "nbformat": 4,
 "nbformat_minor": 5
}
