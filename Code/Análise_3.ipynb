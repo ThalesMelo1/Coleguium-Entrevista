{
 "cells": [
  {
   "cell_type": "code",
   "execution_count": 12,
   "id": "7042cb45",
   "metadata": {},
   "outputs": [],
   "source": [
    "import pandas as pd\n",
    "import numpy as np\n",
    "import matplotlib.pyplot as plt"
   ]
  },
  {
   "cell_type": "code",
   "execution_count": 13,
   "id": "1df27266",
   "metadata": {},
   "outputs": [],
   "source": [
    "novaMatrícula = pd.read_csv('/workspaces/Coleguium-Entrevista/Data/Tratados/Nova_Matrícula_Separada.csv')\n",
    "rematrícula = pd.read_csv('/workspaces/Coleguium-Entrevista/Data/Tratados/Rematrícula_Separada.csv')"
   ]
  },
  {
   "cell_type": "code",
   "execution_count": 14,
   "id": "3e2e9e07",
   "metadata": {},
   "outputs": [],
   "source": [
    "novaMatrícula['Bolsa'] = novaMatrícula['Bolsa (%)'].str.rstrip('%').str.replace(',', '.').astype(float)\n",
    "rematrícula['Bolsa'] = rematrícula['Bolsa (%)'].str.rstrip('%').str.replace(',', '.').astype(float)"
   ]
  },
  {
   "cell_type": "code",
   "execution_count": 15,
   "id": "43b142a3",
   "metadata": {},
   "outputs": [
    {
     "data": {
      "text/plain": [
       "{'Alípio de Melo',\n",
       " 'Carajás',\n",
       " 'Carlos Prates',\n",
       " 'Castelo',\n",
       " 'Castelo Manacás',\n",
       " 'Conceição do Mato Dentro',\n",
       " 'Gutierrez',\n",
       " 'Jaraguá',\n",
       " 'Jardim Canadá',\n",
       " 'Lagoa Santa',\n",
       " 'Mais Belvedere',\n",
       " 'Mais Buritis',\n",
       " 'Mais Cidade Nova',\n",
       " 'Mais Pampulha',\n",
       " 'Nova Suíça',\n",
       " 'Ouro Preto',\n",
       " 'Santa Amélia'}"
      ]
     },
     "execution_count": 15,
     "metadata": {},
     "output_type": "execute_result"
    }
   ],
   "source": [
    "escolas1 = set(novaMatrícula['Unidade'].unique())\n",
    "escolas1"
   ]
  },
  {
   "cell_type": "code",
   "execution_count": 16,
   "id": "8fd82c3e",
   "metadata": {},
   "outputs": [
    {
     "data": {
      "text/plain": [
       "{'Alípio de Melo',\n",
       " 'Carajás',\n",
       " 'Carlos Prates',\n",
       " 'Castelo',\n",
       " 'Castelo Manacás',\n",
       " 'Conceição do Mato Dentro',\n",
       " 'Gutierrez',\n",
       " 'Jaraguá',\n",
       " 'Jardim Canadá',\n",
       " 'Lagoa Santa',\n",
       " 'Mais Belvedere',\n",
       " 'Mais Buritis',\n",
       " 'Mais Cidade Nova',\n",
       " 'Mais Pampulha',\n",
       " 'Nova Suíça',\n",
       " 'Ouro Preto',\n",
       " 'Ouro Preto Integral',\n",
       " 'Santa Amélia'}"
      ]
     },
     "execution_count": 16,
     "metadata": {},
     "output_type": "execute_result"
    }
   ],
   "source": [
    "escolas2 = set(rematrícula['Unidade'].unique())\n",
    "escolas2"
   ]
  },
  {
   "cell_type": "code",
   "execution_count": 17,
   "id": "37445446",
   "metadata": {},
   "outputs": [
    {
     "name": "stdout",
     "output_type": "stream",
     "text": [
      "0.0\n",
      "0.0\n",
      "0.0\n",
      "0.0\n",
      "0.0\n",
      "0.0\n",
      "0.0\n",
      "0.0\n",
      "0.0\n",
      "0.0\n",
      "0.0\n",
      "0.0\n",
      "0.0\n",
      "0.0\n",
      "0.0\n",
      "0.0\n",
      "0.0\n"
     ]
    }
   ],
   "source": [
    "for escola in escolas1:\n",
    "    pe = novaMatrícula[novaMatrícula['Unidade'] == 'escola']['Bolsa'].sum()\n",
    "    print(pe)\n"
   ]
  },
  {
   "cell_type": "code",
   "execution_count": null,
   "id": "e91bc1fd",
   "metadata": {},
   "outputs": [],
   "source": []
  }
 ],
 "metadata": {
  "kernelspec": {
   "display_name": "Python 3",
   "language": "python",
   "name": "python3"
  },
  "language_info": {
   "codemirror_mode": {
    "name": "ipython",
    "version": 3
   },
   "file_extension": ".py",
   "mimetype": "text/x-python",
   "name": "python",
   "nbconvert_exporter": "python",
   "pygments_lexer": "ipython3",
   "version": "3.12.1"
  }
 },
 "nbformat": 4,
 "nbformat_minor": 5
}
